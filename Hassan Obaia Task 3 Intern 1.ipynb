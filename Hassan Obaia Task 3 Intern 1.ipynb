{
 "cells": [
  {
   "cell_type": "markdown",
   "id": "5308f742",
   "metadata": {
    "execution": {
     "execution_failed": "2025-02-10T12:51:43.565Z"
    },
    "papermill": {
     "duration": 0.008547,
     "end_time": "2025-02-10T22:21:08.804383",
     "exception": false,
     "start_time": "2025-02-10T22:21:08.795836",
     "status": "completed"
    },
    "tags": []
   },
   "source": [
    "<a id=\"import\"></a>\n",
    "# <p style=\"background-color:royalblue; font-family:calibri; color:white; font-size:150%; text-align:center; border-radius:15px 50px;\">Step 1 | Import Libraries</p>"
   ]
  },
  {
   "cell_type": "code",
   "execution_count": 7,
   "id": "4764f833",
   "metadata": {
    "execution": {
     "iopub.execute_input": "2025-02-10T22:21:08.821359Z",
     "iopub.status.busy": "2025-02-10T22:21:08.820939Z",
     "iopub.status.idle": "2025-02-10T22:21:12.767563Z",
     "shell.execute_reply": "2025-02-10T22:21:12.766668Z"
    },
    "papermill": {
     "duration": 3.957073,
     "end_time": "2025-02-10T22:21:12.769380",
     "exception": false,
     "start_time": "2025-02-10T22:21:08.812307",
     "status": "completed"
    },
    "tags": []
   },
   "outputs": [],
   "source": [
    "import pandas as pd \n",
    "import seaborn as sns \n",
    "import matplotlib.pyplot as plt \n",
    "import numpy as np \n",
    "\n",
    "from sklearn.preprocessing import RobustScaler\n",
    "from sklearn.model_selection import train_test_split \n",
    "from sklearn.metrics import  confusion_matrix, classification_report\n",
    "from sklearn.model_selection import GridSearchCV\n",
    "from sklearn.model_selection import RandomizedSearchCV\n",
    "\n",
    "from sklearn.svm import SVC\n",
    "from sklearn.linear_model import LogisticRegression\n",
    "from sklearn.neighbors import KNeighborsClassifier\n",
    "from sklearn.tree import DecisionTreeClassifier\n",
    "from sklearn.ensemble import RandomForestClassifier\n",
    "import xgboost as xgb\n",
    "\n",
    "from sklearn.preprocessing import LabelEncoder\n",
    "import category_encoders as ce"
   ]
  },
  {
   "cell_type": "markdown",
   "id": "e3ef49df",
   "metadata": {
    "papermill": {
     "duration": 0.00734,
     "end_time": "2025-02-10T22:21:12.784639",
     "exception": false,
     "start_time": "2025-02-10T22:21:12.777299",
     "status": "completed"
    },
    "tags": []
   },
   "source": [
    "<a id=\"import\"></a>\n",
    "# <p style=\"background-color:royalblue; font-family:calibri; color:white; font-size:150%; text-align:center; border-radius:15px 50px;\">Step 2 | Data Understanding & Loading\n",
    "</p>"
   ]
  },
  {
   "cell_type": "code",
   "execution_count": 8,
   "id": "9bc6f17c",
   "metadata": {
    "execution": {
     "iopub.execute_input": "2025-02-10T22:21:12.802001Z",
     "iopub.status.busy": "2025-02-10T22:21:12.801470Z",
     "iopub.status.idle": "2025-02-10T22:21:13.159671Z",
     "shell.execute_reply": "2025-02-10T22:21:13.158672Z"
    },
    "papermill": {
     "duration": 0.36855,
     "end_time": "2025-02-10T22:21:13.161521",
     "exception": false,
     "start_time": "2025-02-10T22:21:12.792971",
     "status": "completed"
    },
    "tags": []
   },
   "outputs": [
    {
     "name": "stdout",
     "output_type": "stream",
     "text": [
      "DataFrame Information:\n",
      "----------------------\n",
      "<class 'pandas.core.frame.DataFrame'>\n",
      "RangeIndex: 36285 entries, 0 to 36284\n",
      "Data columns (total 17 columns):\n",
      " #   Column                    Non-Null Count  Dtype  \n",
      "---  ------                    --------------  -----  \n",
      " 0   Booking_ID                36285 non-null  object \n",
      " 1   number of adults          36285 non-null  int64  \n",
      " 2   number of children        36285 non-null  int64  \n",
      " 3   number of weekend nights  36285 non-null  int64  \n",
      " 4   number of week nights     36285 non-null  int64  \n",
      " 5   type of meal              36285 non-null  object \n",
      " 6   car parking space         36285 non-null  int64  \n",
      " 7   room type                 36285 non-null  object \n",
      " 8   lead time                 36285 non-null  int64  \n",
      " 9   market segment type       36285 non-null  object \n",
      " 10  repeated                  36285 non-null  int64  \n",
      " 11  P-C                       36285 non-null  int64  \n",
      " 12  P-not-C                   36285 non-null  int64  \n",
      " 13  average price             36285 non-null  float64\n",
      " 14  special requests          36285 non-null  int64  \n",
      " 15  date of reservation       36285 non-null  object \n",
      " 16  booking status            36285 non-null  object \n",
      "dtypes: float64(1), int64(10), object(6)\n",
      "memory usage: 4.7+ MB\n"
     ]
    },
    {
     "data": {
      "text/plain": [
       "None"
      ]
     },
     "metadata": {},
     "output_type": "display_data"
    },
    {
     "name": "stdout",
     "output_type": "stream",
     "text": [
      "\n",
      "\n",
      "DataFrame Values (head(5).T):\n",
      "----------------------\n"
     ]
    },
    {
     "data": {
      "text/html": [
       "<div>\n",
       "<style scoped>\n",
       "    .dataframe tbody tr th:only-of-type {\n",
       "        vertical-align: middle;\n",
       "    }\n",
       "\n",
       "    .dataframe tbody tr th {\n",
       "        vertical-align: top;\n",
       "    }\n",
       "\n",
       "    .dataframe thead th {\n",
       "        text-align: right;\n",
       "    }\n",
       "</style>\n",
       "<table border=\"1\" class=\"dataframe\">\n",
       "  <thead>\n",
       "    <tr style=\"text-align: right;\">\n",
       "      <th></th>\n",
       "      <th>0</th>\n",
       "      <th>1</th>\n",
       "      <th>2</th>\n",
       "      <th>3</th>\n",
       "      <th>4</th>\n",
       "    </tr>\n",
       "  </thead>\n",
       "  <tbody>\n",
       "    <tr>\n",
       "      <th>Booking_ID</th>\n",
       "      <td>INN00001</td>\n",
       "      <td>INN00002</td>\n",
       "      <td>INN00003</td>\n",
       "      <td>INN00004</td>\n",
       "      <td>INN00005</td>\n",
       "    </tr>\n",
       "    <tr>\n",
       "      <th>number of adults</th>\n",
       "      <td>1</td>\n",
       "      <td>1</td>\n",
       "      <td>2</td>\n",
       "      <td>1</td>\n",
       "      <td>1</td>\n",
       "    </tr>\n",
       "    <tr>\n",
       "      <th>number of children</th>\n",
       "      <td>1</td>\n",
       "      <td>0</td>\n",
       "      <td>1</td>\n",
       "      <td>0</td>\n",
       "      <td>0</td>\n",
       "    </tr>\n",
       "    <tr>\n",
       "      <th>number of weekend nights</th>\n",
       "      <td>2</td>\n",
       "      <td>1</td>\n",
       "      <td>1</td>\n",
       "      <td>0</td>\n",
       "      <td>1</td>\n",
       "    </tr>\n",
       "    <tr>\n",
       "      <th>number of week nights</th>\n",
       "      <td>5</td>\n",
       "      <td>3</td>\n",
       "      <td>3</td>\n",
       "      <td>2</td>\n",
       "      <td>2</td>\n",
       "    </tr>\n",
       "    <tr>\n",
       "      <th>type of meal</th>\n",
       "      <td>Meal Plan 1</td>\n",
       "      <td>Not Selected</td>\n",
       "      <td>Meal Plan 1</td>\n",
       "      <td>Meal Plan 1</td>\n",
       "      <td>Not Selected</td>\n",
       "    </tr>\n",
       "    <tr>\n",
       "      <th>car parking space</th>\n",
       "      <td>0</td>\n",
       "      <td>0</td>\n",
       "      <td>0</td>\n",
       "      <td>0</td>\n",
       "      <td>0</td>\n",
       "    </tr>\n",
       "    <tr>\n",
       "      <th>room type</th>\n",
       "      <td>Room_Type 1</td>\n",
       "      <td>Room_Type 1</td>\n",
       "      <td>Room_Type 1</td>\n",
       "      <td>Room_Type 1</td>\n",
       "      <td>Room_Type 1</td>\n",
       "    </tr>\n",
       "    <tr>\n",
       "      <th>lead time</th>\n",
       "      <td>224</td>\n",
       "      <td>5</td>\n",
       "      <td>1</td>\n",
       "      <td>211</td>\n",
       "      <td>48</td>\n",
       "    </tr>\n",
       "    <tr>\n",
       "      <th>market segment type</th>\n",
       "      <td>Offline</td>\n",
       "      <td>Online</td>\n",
       "      <td>Online</td>\n",
       "      <td>Online</td>\n",
       "      <td>Online</td>\n",
       "    </tr>\n",
       "    <tr>\n",
       "      <th>repeated</th>\n",
       "      <td>0</td>\n",
       "      <td>0</td>\n",
       "      <td>0</td>\n",
       "      <td>0</td>\n",
       "      <td>0</td>\n",
       "    </tr>\n",
       "    <tr>\n",
       "      <th>P-C</th>\n",
       "      <td>0</td>\n",
       "      <td>0</td>\n",
       "      <td>0</td>\n",
       "      <td>0</td>\n",
       "      <td>0</td>\n",
       "    </tr>\n",
       "    <tr>\n",
       "      <th>P-not-C</th>\n",
       "      <td>0</td>\n",
       "      <td>0</td>\n",
       "      <td>0</td>\n",
       "      <td>0</td>\n",
       "      <td>0</td>\n",
       "    </tr>\n",
       "    <tr>\n",
       "      <th>average price</th>\n",
       "      <td>88.0</td>\n",
       "      <td>106.68</td>\n",
       "      <td>50.0</td>\n",
       "      <td>100.0</td>\n",
       "      <td>77.0</td>\n",
       "    </tr>\n",
       "    <tr>\n",
       "      <th>special requests</th>\n",
       "      <td>0</td>\n",
       "      <td>1</td>\n",
       "      <td>0</td>\n",
       "      <td>1</td>\n",
       "      <td>0</td>\n",
       "    </tr>\n",
       "    <tr>\n",
       "      <th>date of reservation</th>\n",
       "      <td>10/2/2015</td>\n",
       "      <td>11/6/2018</td>\n",
       "      <td>2/28/2018</td>\n",
       "      <td>5/20/2017</td>\n",
       "      <td>4/11/2018</td>\n",
       "    </tr>\n",
       "    <tr>\n",
       "      <th>booking status</th>\n",
       "      <td>Not_Canceled</td>\n",
       "      <td>Not_Canceled</td>\n",
       "      <td>Canceled</td>\n",
       "      <td>Canceled</td>\n",
       "      <td>Canceled</td>\n",
       "    </tr>\n",
       "  </tbody>\n",
       "</table>\n",
       "</div>"
      ],
      "text/plain": [
       "                                     0             1            2  \\\n",
       "Booking_ID                    INN00001      INN00002     INN00003   \n",
       "number of adults                     1             1            2   \n",
       "number of children                   1             0            1   \n",
       "number of weekend nights             2             1            1   \n",
       "number of week nights                5             3            3   \n",
       "type of meal               Meal Plan 1  Not Selected  Meal Plan 1   \n",
       "car parking space                    0             0            0   \n",
       "room type                  Room_Type 1   Room_Type 1  Room_Type 1   \n",
       "lead time                          224             5            1   \n",
       "market segment type            Offline        Online       Online   \n",
       "repeated                             0             0            0   \n",
       "P-C                                  0             0            0   \n",
       "P-not-C                              0             0            0   \n",
       "average price                     88.0        106.68         50.0   \n",
       "special requests                     0             1            0   \n",
       "date of reservation          10/2/2015     11/6/2018    2/28/2018   \n",
       "booking status            Not_Canceled  Not_Canceled     Canceled   \n",
       "\n",
       "                                    3             4  \n",
       "Booking_ID                   INN00004      INN00005  \n",
       "number of adults                    1             1  \n",
       "number of children                  0             0  \n",
       "number of weekend nights            0             1  \n",
       "number of week nights               2             2  \n",
       "type of meal              Meal Plan 1  Not Selected  \n",
       "car parking space                   0             0  \n",
       "room type                 Room_Type 1   Room_Type 1  \n",
       "lead time                         211            48  \n",
       "market segment type            Online        Online  \n",
       "repeated                            0             0  \n",
       "P-C                                 0             0  \n",
       "P-not-C                             0             0  \n",
       "average price                   100.0          77.0  \n",
       "special requests                    1             0  \n",
       "date of reservation         5/20/2017     4/11/2018  \n",
       "booking status               Canceled      Canceled  "
      ]
     },
     "metadata": {},
     "output_type": "display_data"
    },
    {
     "name": "stdout",
     "output_type": "stream",
     "text": [
      "\n",
      "\n",
      "DataFrame Description:\n",
      "----------------------\n"
     ]
    },
    {
     "data": {
      "text/html": [
       "<div>\n",
       "<style scoped>\n",
       "    .dataframe tbody tr th:only-of-type {\n",
       "        vertical-align: middle;\n",
       "    }\n",
       "\n",
       "    .dataframe tbody tr th {\n",
       "        vertical-align: top;\n",
       "    }\n",
       "\n",
       "    .dataframe thead th {\n",
       "        text-align: right;\n",
       "    }\n",
       "</style>\n",
       "<table border=\"1\" class=\"dataframe\">\n",
       "  <thead>\n",
       "    <tr style=\"text-align: right;\">\n",
       "      <th></th>\n",
       "      <th>count</th>\n",
       "      <th>unique</th>\n",
       "      <th>top</th>\n",
       "      <th>freq</th>\n",
       "      <th>mean</th>\n",
       "      <th>std</th>\n",
       "      <th>min</th>\n",
       "      <th>25%</th>\n",
       "      <th>50%</th>\n",
       "      <th>75%</th>\n",
       "      <th>max</th>\n",
       "    </tr>\n",
       "  </thead>\n",
       "  <tbody>\n",
       "    <tr>\n",
       "      <th>Booking_ID</th>\n",
       "      <td>36285</td>\n",
       "      <td>36285</td>\n",
       "      <td>INN36286</td>\n",
       "      <td>1</td>\n",
       "      <td>NaN</td>\n",
       "      <td>NaN</td>\n",
       "      <td>NaN</td>\n",
       "      <td>NaN</td>\n",
       "      <td>NaN</td>\n",
       "      <td>NaN</td>\n",
       "      <td>NaN</td>\n",
       "    </tr>\n",
       "    <tr>\n",
       "      <th>number of adults</th>\n",
       "      <td>36285.0</td>\n",
       "      <td>NaN</td>\n",
       "      <td>NaN</td>\n",
       "      <td>NaN</td>\n",
       "      <td>1.844839</td>\n",
       "      <td>0.518813</td>\n",
       "      <td>0.0</td>\n",
       "      <td>2.0</td>\n",
       "      <td>2.0</td>\n",
       "      <td>2.0</td>\n",
       "      <td>4.0</td>\n",
       "    </tr>\n",
       "    <tr>\n",
       "      <th>number of children</th>\n",
       "      <td>36285.0</td>\n",
       "      <td>NaN</td>\n",
       "      <td>NaN</td>\n",
       "      <td>NaN</td>\n",
       "      <td>0.10536</td>\n",
       "      <td>0.402704</td>\n",
       "      <td>0.0</td>\n",
       "      <td>0.0</td>\n",
       "      <td>0.0</td>\n",
       "      <td>0.0</td>\n",
       "      <td>10.0</td>\n",
       "    </tr>\n",
       "    <tr>\n",
       "      <th>number of weekend nights</th>\n",
       "      <td>36285.0</td>\n",
       "      <td>NaN</td>\n",
       "      <td>NaN</td>\n",
       "      <td>NaN</td>\n",
       "      <td>0.810693</td>\n",
       "      <td>0.87059</td>\n",
       "      <td>0.0</td>\n",
       "      <td>0.0</td>\n",
       "      <td>1.0</td>\n",
       "      <td>2.0</td>\n",
       "      <td>7.0</td>\n",
       "    </tr>\n",
       "    <tr>\n",
       "      <th>number of week nights</th>\n",
       "      <td>36285.0</td>\n",
       "      <td>NaN</td>\n",
       "      <td>NaN</td>\n",
       "      <td>NaN</td>\n",
       "      <td>2.204602</td>\n",
       "      <td>1.410946</td>\n",
       "      <td>0.0</td>\n",
       "      <td>1.0</td>\n",
       "      <td>2.0</td>\n",
       "      <td>3.0</td>\n",
       "      <td>17.0</td>\n",
       "    </tr>\n",
       "    <tr>\n",
       "      <th>type of meal</th>\n",
       "      <td>36285</td>\n",
       "      <td>4</td>\n",
       "      <td>Meal Plan 1</td>\n",
       "      <td>27842</td>\n",
       "      <td>NaN</td>\n",
       "      <td>NaN</td>\n",
       "      <td>NaN</td>\n",
       "      <td>NaN</td>\n",
       "      <td>NaN</td>\n",
       "      <td>NaN</td>\n",
       "      <td>NaN</td>\n",
       "    </tr>\n",
       "    <tr>\n",
       "      <th>car parking space</th>\n",
       "      <td>36285.0</td>\n",
       "      <td>NaN</td>\n",
       "      <td>NaN</td>\n",
       "      <td>NaN</td>\n",
       "      <td>0.030977</td>\n",
       "      <td>0.173258</td>\n",
       "      <td>0.0</td>\n",
       "      <td>0.0</td>\n",
       "      <td>0.0</td>\n",
       "      <td>0.0</td>\n",
       "      <td>1.0</td>\n",
       "    </tr>\n",
       "    <tr>\n",
       "      <th>room type</th>\n",
       "      <td>36285</td>\n",
       "      <td>7</td>\n",
       "      <td>Room_Type 1</td>\n",
       "      <td>28138</td>\n",
       "      <td>NaN</td>\n",
       "      <td>NaN</td>\n",
       "      <td>NaN</td>\n",
       "      <td>NaN</td>\n",
       "      <td>NaN</td>\n",
       "      <td>NaN</td>\n",
       "      <td>NaN</td>\n",
       "    </tr>\n",
       "    <tr>\n",
       "      <th>lead time</th>\n",
       "      <td>36285.0</td>\n",
       "      <td>NaN</td>\n",
       "      <td>NaN</td>\n",
       "      <td>NaN</td>\n",
       "      <td>85.239851</td>\n",
       "      <td>85.938796</td>\n",
       "      <td>0.0</td>\n",
       "      <td>17.0</td>\n",
       "      <td>57.0</td>\n",
       "      <td>126.0</td>\n",
       "      <td>443.0</td>\n",
       "    </tr>\n",
       "    <tr>\n",
       "      <th>market segment type</th>\n",
       "      <td>36285</td>\n",
       "      <td>5</td>\n",
       "      <td>Online</td>\n",
       "      <td>23221</td>\n",
       "      <td>NaN</td>\n",
       "      <td>NaN</td>\n",
       "      <td>NaN</td>\n",
       "      <td>NaN</td>\n",
       "      <td>NaN</td>\n",
       "      <td>NaN</td>\n",
       "      <td>NaN</td>\n",
       "    </tr>\n",
       "    <tr>\n",
       "      <th>repeated</th>\n",
       "      <td>36285.0</td>\n",
       "      <td>NaN</td>\n",
       "      <td>NaN</td>\n",
       "      <td>NaN</td>\n",
       "      <td>0.02563</td>\n",
       "      <td>0.158032</td>\n",
       "      <td>0.0</td>\n",
       "      <td>0.0</td>\n",
       "      <td>0.0</td>\n",
       "      <td>0.0</td>\n",
       "      <td>1.0</td>\n",
       "    </tr>\n",
       "    <tr>\n",
       "      <th>P-C</th>\n",
       "      <td>36285.0</td>\n",
       "      <td>NaN</td>\n",
       "      <td>NaN</td>\n",
       "      <td>NaN</td>\n",
       "      <td>0.023343</td>\n",
       "      <td>0.368281</td>\n",
       "      <td>0.0</td>\n",
       "      <td>0.0</td>\n",
       "      <td>0.0</td>\n",
       "      <td>0.0</td>\n",
       "      <td>13.0</td>\n",
       "    </tr>\n",
       "    <tr>\n",
       "      <th>P-not-C</th>\n",
       "      <td>36285.0</td>\n",
       "      <td>NaN</td>\n",
       "      <td>NaN</td>\n",
       "      <td>NaN</td>\n",
       "      <td>0.153369</td>\n",
       "      <td>1.753931</td>\n",
       "      <td>0.0</td>\n",
       "      <td>0.0</td>\n",
       "      <td>0.0</td>\n",
       "      <td>0.0</td>\n",
       "      <td>58.0</td>\n",
       "    </tr>\n",
       "    <tr>\n",
       "      <th>average price</th>\n",
       "      <td>36285.0</td>\n",
       "      <td>NaN</td>\n",
       "      <td>NaN</td>\n",
       "      <td>NaN</td>\n",
       "      <td>103.421636</td>\n",
       "      <td>35.086469</td>\n",
       "      <td>0.0</td>\n",
       "      <td>80.3</td>\n",
       "      <td>99.45</td>\n",
       "      <td>120.0</td>\n",
       "      <td>540.0</td>\n",
       "    </tr>\n",
       "    <tr>\n",
       "      <th>special requests</th>\n",
       "      <td>36285.0</td>\n",
       "      <td>NaN</td>\n",
       "      <td>NaN</td>\n",
       "      <td>NaN</td>\n",
       "      <td>0.619733</td>\n",
       "      <td>0.786262</td>\n",
       "      <td>0.0</td>\n",
       "      <td>0.0</td>\n",
       "      <td>0.0</td>\n",
       "      <td>1.0</td>\n",
       "      <td>5.0</td>\n",
       "    </tr>\n",
       "    <tr>\n",
       "      <th>date of reservation</th>\n",
       "      <td>36285</td>\n",
       "      <td>553</td>\n",
       "      <td>10/13/2018</td>\n",
       "      <td>254</td>\n",
       "      <td>NaN</td>\n",
       "      <td>NaN</td>\n",
       "      <td>NaN</td>\n",
       "      <td>NaN</td>\n",
       "      <td>NaN</td>\n",
       "      <td>NaN</td>\n",
       "      <td>NaN</td>\n",
       "    </tr>\n",
       "    <tr>\n",
       "      <th>booking status</th>\n",
       "      <td>36285</td>\n",
       "      <td>2</td>\n",
       "      <td>Not_Canceled</td>\n",
       "      <td>24396</td>\n",
       "      <td>NaN</td>\n",
       "      <td>NaN</td>\n",
       "      <td>NaN</td>\n",
       "      <td>NaN</td>\n",
       "      <td>NaN</td>\n",
       "      <td>NaN</td>\n",
       "      <td>NaN</td>\n",
       "    </tr>\n",
       "  </tbody>\n",
       "</table>\n",
       "</div>"
      ],
      "text/plain": [
       "                            count unique           top   freq        mean  \\\n",
       "Booking_ID                  36285  36285      INN36286      1         NaN   \n",
       "number of adults          36285.0    NaN           NaN    NaN    1.844839   \n",
       "number of children        36285.0    NaN           NaN    NaN     0.10536   \n",
       "number of weekend nights  36285.0    NaN           NaN    NaN    0.810693   \n",
       "number of week nights     36285.0    NaN           NaN    NaN    2.204602   \n",
       "type of meal                36285      4   Meal Plan 1  27842         NaN   \n",
       "car parking space         36285.0    NaN           NaN    NaN    0.030977   \n",
       "room type                   36285      7   Room_Type 1  28138         NaN   \n",
       "lead time                 36285.0    NaN           NaN    NaN   85.239851   \n",
       "market segment type         36285      5        Online  23221         NaN   \n",
       "repeated                  36285.0    NaN           NaN    NaN     0.02563   \n",
       "P-C                       36285.0    NaN           NaN    NaN    0.023343   \n",
       "P-not-C                   36285.0    NaN           NaN    NaN    0.153369   \n",
       "average price             36285.0    NaN           NaN    NaN  103.421636   \n",
       "special requests          36285.0    NaN           NaN    NaN    0.619733   \n",
       "date of reservation         36285    553    10/13/2018    254         NaN   \n",
       "booking status              36285      2  Not_Canceled  24396         NaN   \n",
       "\n",
       "                                std  min   25%    50%    75%    max  \n",
       "Booking_ID                      NaN  NaN   NaN    NaN    NaN    NaN  \n",
       "number of adults           0.518813  0.0   2.0    2.0    2.0    4.0  \n",
       "number of children         0.402704  0.0   0.0    0.0    0.0   10.0  \n",
       "number of weekend nights    0.87059  0.0   0.0    1.0    2.0    7.0  \n",
       "number of week nights      1.410946  0.0   1.0    2.0    3.0   17.0  \n",
       "type of meal                    NaN  NaN   NaN    NaN    NaN    NaN  \n",
       "car parking space          0.173258  0.0   0.0    0.0    0.0    1.0  \n",
       "room type                       NaN  NaN   NaN    NaN    NaN    NaN  \n",
       "lead time                 85.938796  0.0  17.0   57.0  126.0  443.0  \n",
       "market segment type             NaN  NaN   NaN    NaN    NaN    NaN  \n",
       "repeated                   0.158032  0.0   0.0    0.0    0.0    1.0  \n",
       "P-C                        0.368281  0.0   0.0    0.0    0.0   13.0  \n",
       "P-not-C                    1.753931  0.0   0.0    0.0    0.0   58.0  \n",
       "average price             35.086469  0.0  80.3  99.45  120.0  540.0  \n",
       "special requests           0.786262  0.0   0.0    0.0    1.0    5.0  \n",
       "date of reservation             NaN  NaN   NaN    NaN    NaN    NaN  \n",
       "booking status                  NaN  NaN   NaN    NaN    NaN    NaN  "
      ]
     },
     "metadata": {},
     "output_type": "display_data"
    },
    {
     "name": "stdout",
     "output_type": "stream",
     "text": [
      "\n",
      "\n",
      "Number of Null Values:\n",
      "----------------------\n"
     ]
    },
    {
     "data": {
      "text/plain": [
       "Booking_ID                  0\n",
       "number of adults            0\n",
       "number of children          0\n",
       "number of weekend nights    0\n",
       "number of week nights       0\n",
       "type of meal                0\n",
       "car parking space           0\n",
       "room type                   0\n",
       "lead time                   0\n",
       "market segment type         0\n",
       "repeated                    0\n",
       "P-C                         0\n",
       "P-not-C                     0\n",
       "average price               0\n",
       "special requests            0\n",
       "date of reservation         0\n",
       "booking status              0\n",
       "dtype: int64"
      ]
     },
     "metadata": {},
     "output_type": "display_data"
    },
    {
     "name": "stdout",
     "output_type": "stream",
     "text": [
      "\n",
      "\n",
      "Number of Duplicated Rows:\n",
      "--------------------------\n"
     ]
    },
    {
     "data": {
      "text/plain": [
       "np.int64(0)"
      ]
     },
     "metadata": {},
     "output_type": "display_data"
    },
    {
     "name": "stdout",
     "output_type": "stream",
     "text": [
      "\n",
      "\n",
      "Number of Unique Values:\n",
      "------------------------\n"
     ]
    },
    {
     "data": {
      "text/plain": [
       "Booking_ID                  36285\n",
       "number of adults                5\n",
       "number of children              6\n",
       "number of weekend nights        8\n",
       "number of week nights          18\n",
       "type of meal                    4\n",
       "car parking space               2\n",
       "room type                       7\n",
       "lead time                     352\n",
       "market segment type             5\n",
       "repeated                        2\n",
       "P-C                             9\n",
       "P-not-C                        59\n",
       "average price                3930\n",
       "special requests                6\n",
       "date of reservation           553\n",
       "booking status                  2\n",
       "dtype: int64"
      ]
     },
     "metadata": {},
     "output_type": "display_data"
    },
    {
     "name": "stdout",
     "output_type": "stream",
     "text": [
      "\n",
      "\n",
      "DataFrame Shape:\n",
      "----------------\n",
      "Rows: 36285, Columns: 17\n"
     ]
    }
   ],
   "source": [
    "df = pd.read_csv(\"C:/Users/hassa/OneDrive/Desktop/New folder/first inten project.csv\")\n",
    "\n",
    "def analyze_dataframe(df):\n",
    "\n",
    "    print(\"DataFrame Information:\")\n",
    "    print(\"----------------------\")\n",
    "    display(df.info(verbose=True, show_counts=True))\n",
    "    print(\"\\n\")\n",
    "\n",
    "    print(\"DataFrame Values (head(5).T):\")\n",
    "    print(\"----------------------\")\n",
    "    display(df.head(5).T)\n",
    "    print(\"\\n\")\n",
    "\n",
    "    print(\"DataFrame Description:\")\n",
    "    print(\"----------------------\")\n",
    "    display(df.describe(include=\"all\").T)\n",
    "    print(\"\\n\")\n",
    "\n",
    "    print(\"Number of Null Values:\")\n",
    "    print(\"----------------------\")\n",
    "    display(df.isnull().sum())\n",
    "    print(\"\\n\")\n",
    "\n",
    "    print(\"Number of Duplicated Rows:\")\n",
    "    print(\"--------------------------\")\n",
    "    display(df.duplicated().sum())\n",
    "    print(\"\\n\")\n",
    "\n",
    "    print(\"Number of Unique Values:\")\n",
    "    print(\"------------------------\")\n",
    "    display(df.nunique())\n",
    "    print(\"\\n\")\n",
    "\n",
    "\n",
    "    print(\"DataFrame Shape:\")\n",
    "    print(\"----------------\")\n",
    "    print(f\"Rows: {df.shape[0]}, Columns: {df.shape[1]}\")\n",
    "\n",
    "analyze_dataframe(df)"
   ]
  },
  {
   "cell_type": "markdown",
   "id": "7a25aff1",
   "metadata": {
    "papermill": {
     "duration": 0.008894,
     "end_time": "2025-02-10T22:21:13.180034",
     "exception": false,
     "start_time": "2025-02-10T22:21:13.171140",
     "status": "completed"
    },
    "tags": []
   },
   "source": [
    "### **💡Key Points**:\n",
    "\n",
    "**✅ No missing values or duplicate entries in this data..**"
   ]
  },
  {
   "cell_type": "markdown",
   "id": "cd2010d0",
   "metadata": {
    "papermill": {
     "duration": 0.009306,
     "end_time": "2025-02-10T22:21:13.198722",
     "exception": false,
     "start_time": "2025-02-10T22:21:13.189416",
     "status": "completed"
    },
    "tags": []
   },
   "source": [
    "<a id=\"preprocessing\"></a>\n",
    "# <p style=\"background-color:royalblue; font-family:calibri; color:white; font-size:150%; text-align:center; border-radius:15px 50px;\">Step 3 | Data Preprocessing</p>\n"
   ]
  },
  {
   "cell_type": "markdown",
   "id": "0f9b07d7",
   "metadata": {
    "papermill": {
     "duration": 0.00894,
     "end_time": "2025-02-10T22:21:13.216763",
     "exception": false,
     "start_time": "2025-02-10T22:21:13.207823",
     "status": "completed"
    },
    "tags": []
   },
   "source": [
    "<a id=\"engineering\"></a>\n",
    "# <b><span style='color:darkturquoise'>Step 3.1 |</span><span style='color:royalblue'> Feature Selection and Engineering</span></b>"
   ]
  },
  {
   "cell_type": "code",
   "execution_count": 9,
   "id": "cb3c917a",
   "metadata": {
    "execution": {
     "iopub.execute_input": "2025-02-10T22:21:13.236455Z",
     "iopub.status.busy": "2025-02-10T22:21:13.236118Z",
     "iopub.status.idle": "2025-02-10T22:21:13.558881Z",
     "shell.execute_reply": "2025-02-10T22:21:13.557537Z"
    },
    "papermill": {
     "duration": 0.334818,
     "end_time": "2025-02-10T22:21:13.560687",
     "exception": false,
     "start_time": "2025-02-10T22:21:13.225869",
     "status": "completed"
    },
    "tags": []
   },
   "outputs": [
    {
     "data": {
      "text/html": [
       "<div>\n",
       "<style scoped>\n",
       "    .dataframe tbody tr th:only-of-type {\n",
       "        vertical-align: middle;\n",
       "    }\n",
       "\n",
       "    .dataframe tbody tr th {\n",
       "        vertical-align: top;\n",
       "    }\n",
       "\n",
       "    .dataframe thead th {\n",
       "        text-align: right;\n",
       "    }\n",
       "</style>\n",
       "<table border=\"1\" class=\"dataframe\">\n",
       "  <thead>\n",
       "    <tr style=\"text-align: right;\">\n",
       "      <th></th>\n",
       "      <th>type of meal</th>\n",
       "      <th>car parking space</th>\n",
       "      <th>room type</th>\n",
       "      <th>lead time</th>\n",
       "      <th>market segment type</th>\n",
       "      <th>repeated</th>\n",
       "      <th>average price</th>\n",
       "      <th>special requests</th>\n",
       "      <th>booking status</th>\n",
       "      <th>year</th>\n",
       "      <th>month</th>\n",
       "      <th>is_weekend</th>\n",
       "      <th>total nights</th>\n",
       "      <th>guest type</th>\n",
       "    </tr>\n",
       "  </thead>\n",
       "  <tbody>\n",
       "    <tr>\n",
       "      <th>0</th>\n",
       "      <td>Meal Plan 1</td>\n",
       "      <td>0</td>\n",
       "      <td>Room_Type 1</td>\n",
       "      <td>224</td>\n",
       "      <td>Offline</td>\n",
       "      <td>0</td>\n",
       "      <td>88.00</td>\n",
       "      <td>0</td>\n",
       "      <td>Not_Canceled</td>\n",
       "      <td>2015</td>\n",
       "      <td>10</td>\n",
       "      <td>0</td>\n",
       "      <td>7</td>\n",
       "      <td>Family</td>\n",
       "    </tr>\n",
       "    <tr>\n",
       "      <th>1</th>\n",
       "      <td>Not Selected</td>\n",
       "      <td>0</td>\n",
       "      <td>Room_Type 1</td>\n",
       "      <td>5</td>\n",
       "      <td>Online</td>\n",
       "      <td>0</td>\n",
       "      <td>106.68</td>\n",
       "      <td>1</td>\n",
       "      <td>Not_Canceled</td>\n",
       "      <td>2018</td>\n",
       "      <td>11</td>\n",
       "      <td>0</td>\n",
       "      <td>4</td>\n",
       "      <td>Individual/Couple</td>\n",
       "    </tr>\n",
       "    <tr>\n",
       "      <th>2</th>\n",
       "      <td>Meal Plan 1</td>\n",
       "      <td>0</td>\n",
       "      <td>Room_Type 1</td>\n",
       "      <td>1</td>\n",
       "      <td>Online</td>\n",
       "      <td>0</td>\n",
       "      <td>50.00</td>\n",
       "      <td>0</td>\n",
       "      <td>Canceled</td>\n",
       "      <td>2018</td>\n",
       "      <td>2</td>\n",
       "      <td>0</td>\n",
       "      <td>4</td>\n",
       "      <td>Family</td>\n",
       "    </tr>\n",
       "    <tr>\n",
       "      <th>3</th>\n",
       "      <td>Meal Plan 1</td>\n",
       "      <td>0</td>\n",
       "      <td>Room_Type 1</td>\n",
       "      <td>211</td>\n",
       "      <td>Online</td>\n",
       "      <td>0</td>\n",
       "      <td>100.00</td>\n",
       "      <td>1</td>\n",
       "      <td>Canceled</td>\n",
       "      <td>2017</td>\n",
       "      <td>5</td>\n",
       "      <td>1</td>\n",
       "      <td>2</td>\n",
       "      <td>Individual/Couple</td>\n",
       "    </tr>\n",
       "    <tr>\n",
       "      <th>4</th>\n",
       "      <td>Not Selected</td>\n",
       "      <td>0</td>\n",
       "      <td>Room_Type 1</td>\n",
       "      <td>48</td>\n",
       "      <td>Online</td>\n",
       "      <td>0</td>\n",
       "      <td>77.00</td>\n",
       "      <td>0</td>\n",
       "      <td>Canceled</td>\n",
       "      <td>2018</td>\n",
       "      <td>4</td>\n",
       "      <td>0</td>\n",
       "      <td>3</td>\n",
       "      <td>Individual/Couple</td>\n",
       "    </tr>\n",
       "  </tbody>\n",
       "</table>\n",
       "</div>"
      ],
      "text/plain": [
       "   type of meal  car parking space    room type  lead time  \\\n",
       "0   Meal Plan 1                  0  Room_Type 1        224   \n",
       "1  Not Selected                  0  Room_Type 1          5   \n",
       "2   Meal Plan 1                  0  Room_Type 1          1   \n",
       "3   Meal Plan 1                  0  Room_Type 1        211   \n",
       "4  Not Selected                  0  Room_Type 1         48   \n",
       "\n",
       "  market segment type  repeated  average price  special requests  \\\n",
       "0             Offline         0          88.00                 0   \n",
       "1              Online         0         106.68                 1   \n",
       "2              Online         0          50.00                 0   \n",
       "3              Online         0         100.00                 1   \n",
       "4              Online         0          77.00                 0   \n",
       "\n",
       "  booking status  year  month  is_weekend  total nights         guest type  \n",
       "0   Not_Canceled  2015     10           0             7             Family  \n",
       "1   Not_Canceled  2018     11           0             4  Individual/Couple  \n",
       "2       Canceled  2018      2           0             4             Family  \n",
       "3       Canceled  2017      5           1             2  Individual/Couple  \n",
       "4       Canceled  2018      4           0             3  Individual/Couple  "
      ]
     },
     "execution_count": 9,
     "metadata": {},
     "output_type": "execute_result"
    }
   ],
   "source": [
    "# Remove any leading or trailing whitespace from column names\n",
    "df.columns = df.columns.str.strip()\n",
    "\n",
    "# Convert the \"date of reservation\" column to datetime format, handling errors by coercing invalid values to NaT\n",
    "df['date of reservation'] = pd.to_datetime(df['date of reservation'], errors='coerce')\n",
    "\n",
    "# Drop rows containing NaT values (missing dates)\n",
    "df.dropna(inplace=True)\n",
    "\n",
    "# Extract the year from the \"date of reservation\" and convert it to an integer\n",
    "df[\"year\"] = df[\"date of reservation\"].dt.year.astype(int)\n",
    "\n",
    "# Extract the month from the \"date of reservation\" and convert it to an integer\n",
    "df[\"month\"] = df[\"date of reservation\"].dt.month.astype(int)\n",
    "\n",
    "# Create a new column \"is_weekend\" (1 if the reservation was made on a weekend, 0 otherwise)\n",
    "df[\"is_weekend\"] = df[\"date of reservation\"].dt.weekday.isin([5, 6]).astype(int)\n",
    "# Add a new column \"total nights\" by summing the number of weekend and week nights\n",
    "df['total nights'] = df['number of weekend nights'] + df['number of week nights']\n",
    "\n",
    "# Create a new column \"guest type\" to classify customers as \"Family\" if they have children, otherwise \"Individual/Couple\"\n",
    "df['guest type'] = df.apply(lambda x: 'Family' if x['number of children'] > 0 else 'Individual/Couple', axis=1)\n",
    "\n",
    "# Drop unnecessary columns\n",
    "df.drop(columns=[\"date of reservation\", 'P-C', 'P-not-C',\n",
    "                 'Booking_ID','number of adults','number of children',\n",
    "                 'number of weekend nights','number of week nights'],\n",
    "        inplace=True)\n",
    "\n",
    "# Select all numerical columns (both float and integer types)\n",
    "numerical_cols = df.select_dtypes(include=['float64', 'int64']).columns\n",
    "# Display the first few rows of the modified dataframe\n",
    "df.head()\n"
   ]
  },
  {
   "cell_type": "markdown",
   "id": "d053482c",
   "metadata": {
    "papermill": {
     "duration": 0.00956,
     "end_time": "2025-02-10T22:21:13.583978",
     "exception": false,
     "start_time": "2025-02-10T22:21:13.574418",
     "status": "completed"
    },
    "tags": []
   },
   "source": [
    "### **💡Key Points**:\n",
    "\n",
    "**✅ Cleans column names by stripping whitespace.**\n",
    "\n",
    "**✅ Handles datetime conversion and extracts relevant features (year, month, weekend indicator).**\n",
    "\n",
    "**✅ Creates new features:\"total nights\" (total stay duration).\"guest type\" (categorizes guests as family or individual/couple).**\n",
    "\n",
    "**✅ Removes unnecessary columns to reduce redundancy and improve model performance.**\n",
    "\n",
    "**✅ Identifies numerical columns for further analysis.**\n"
   ]
  },
  {
   "cell_type": "markdown",
   "id": "63e98ae3",
   "metadata": {
    "papermill": {
     "duration": 0.008985,
     "end_time": "2025-02-10T22:21:13.602745",
     "exception": false,
     "start_time": "2025-02-10T22:21:13.593760",
     "status": "completed"
    },
    "tags": []
   },
   "source": [
    "<a id=\"engineering\"></a>\n",
    "# <b><span style='color:darkturquoise'>Step 3.2 |</span><span style='color:royalblue'> Handling Skewness Using Log Transformation Instead of Removing Outliers</span></b>  \n",
    "\n",
    "#### **🔹 Why Did We Use This Instead of Removing Outliers?**  \n",
    "1️⃣ **Preserves Important Data:** Removing outliers in this data may lead to data loss, especially if they hold valuable information.\n",
    "\n",
    "2️⃣ **Reduces the Impact of Extreme Values:** Log transformation **compresses large values**, making distributions more symmetric.\n",
    "\n",
    "3️⃣ **Handles Right-Skewed Data More Effectively:** Instead of removing extreme values, we adjust the scale to bring them closer to the mean. "
   ]
  },
  {
   "cell_type": "code",
   "execution_count": 10,
   "id": "14dc9899",
   "metadata": {
    "execution": {
     "iopub.execute_input": "2025-02-10T22:21:13.623521Z",
     "iopub.status.busy": "2025-02-10T22:21:13.623135Z",
     "iopub.status.idle": "2025-02-10T22:21:13.657124Z",
     "shell.execute_reply": "2025-02-10T22:21:13.655723Z"
    },
    "papermill": {
     "duration": 0.046598,
     "end_time": "2025-02-10T22:21:13.659102",
     "exception": false,
     "start_time": "2025-02-10T22:21:13.612504",
     "status": "completed"
    },
    "tags": []
   },
   "outputs": [
    {
     "name": "stdout",
     "output_type": "stream",
     "text": [
      "\n",
      " car parking space    5.419387\n",
      "lead time           -0.826554\n",
      "repeated             6.014476\n",
      "special requests     0.565615\n",
      "year                -1.675565\n",
      "total nights         0.136667\n",
      "dtype: float64\n"
     ]
    }
   ],
   "source": [
    "# Calculate the skewness of numerical columns\n",
    "skewness = df[numerical_cols].skew()\n",
    "\n",
    "# Identify columns where skewness is greater than 1 or less than -1 (highly skewed)\n",
    "skewed_cols = skewness[abs(skewness) > 1].index\n",
    "\n",
    "# Apply log transformation (log1p = log(1 + x)) to reduce skewness\n",
    "df[skewed_cols] = np.log1p(df[skewed_cols])\n",
    "\n",
    "# Print the skewness after transformation to check improvement\n",
    "print(\"\\n\", df[skewed_cols].skew())\n"
   ]
  },
  {
   "cell_type": "markdown",
   "id": "24ce7764",
   "metadata": {
    "papermill": {
     "duration": 0.009045,
     "end_time": "2025-02-10T22:21:13.678682",
     "exception": false,
     "start_time": "2025-02-10T22:21:13.669637",
     "status": "completed"
    },
    "tags": []
   },
   "source": [
    "###   📌 Key Points:\n",
    "**✅ Detects skewed numerical columns by calculating skewness.**\n",
    "\n",
    "**✅ Applies log transformation (log1p) to reduce skewness.**\n",
    "\n",
    "**✅ Uses log1p(x) = log(1 + x) to avoid issues with zero values.**\n",
    "\n",
    "**✅ Rechecks skewness after transformation to ensure effectiveness.**"
   ]
  },
  {
   "cell_type": "markdown",
   "id": "2800b545",
   "metadata": {
    "papermill": {
     "duration": 0.008953,
     "end_time": "2025-02-10T22:21:13.697010",
     "exception": false,
     "start_time": "2025-02-10T22:21:13.688057",
     "status": "completed"
    },
    "tags": []
   },
   "source": [
    "## <a id=\"encode\"></a>\n",
    "# <b><span style='color:darkturquoise'>Step 3.3 |</span><span style='color:royalblue'> Encode Categorical Variables</span></b>"
   ]
  },
  {
   "cell_type": "code",
   "execution_count": 11,
   "id": "005a73ed",
   "metadata": {
    "execution": {
     "iopub.execute_input": "2025-02-10T22:21:13.716734Z",
     "iopub.status.busy": "2025-02-10T22:21:13.716338Z",
     "iopub.status.idle": "2025-02-10T22:21:13.810023Z",
     "shell.execute_reply": "2025-02-10T22:21:13.808849Z"
    },
    "papermill": {
     "duration": 0.105561,
     "end_time": "2025-02-10T22:21:13.811807",
     "exception": false,
     "start_time": "2025-02-10T22:21:13.706246",
     "status": "completed"
    },
    "tags": []
   },
   "outputs": [
    {
     "data": {
      "text/html": [
       "<div>\n",
       "<style scoped>\n",
       "    .dataframe tbody tr th:only-of-type {\n",
       "        vertical-align: middle;\n",
       "    }\n",
       "\n",
       "    .dataframe tbody tr th {\n",
       "        vertical-align: top;\n",
       "    }\n",
       "\n",
       "    .dataframe thead th {\n",
       "        text-align: right;\n",
       "    }\n",
       "</style>\n",
       "<table border=\"1\" class=\"dataframe\">\n",
       "  <thead>\n",
       "    <tr style=\"text-align: right;\">\n",
       "      <th></th>\n",
       "      <th>car parking space</th>\n",
       "      <th>lead time</th>\n",
       "      <th>repeated</th>\n",
       "      <th>average price</th>\n",
       "      <th>special requests</th>\n",
       "      <th>booking status</th>\n",
       "      <th>year</th>\n",
       "      <th>month</th>\n",
       "      <th>is_weekend</th>\n",
       "      <th>total nights</th>\n",
       "      <th>...</th>\n",
       "      <th>room type_Room_Type 2</th>\n",
       "      <th>room type_Room_Type 3</th>\n",
       "      <th>room type_Room_Type 4</th>\n",
       "      <th>room type_Room_Type 5</th>\n",
       "      <th>room type_Room_Type 6</th>\n",
       "      <th>room type_Room_Type 7</th>\n",
       "      <th>type of meal_Meal Plan 1</th>\n",
       "      <th>type of meal_Meal Plan 2</th>\n",
       "      <th>type of meal_Meal Plan 3</th>\n",
       "      <th>type of meal_Not Selected</th>\n",
       "    </tr>\n",
       "  </thead>\n",
       "  <tbody>\n",
       "    <tr>\n",
       "      <th>0</th>\n",
       "      <td>0.0</td>\n",
       "      <td>5.416100</td>\n",
       "      <td>0.0</td>\n",
       "      <td>88.00</td>\n",
       "      <td>0.000000</td>\n",
       "      <td>1</td>\n",
       "      <td>7.608871</td>\n",
       "      <td>10</td>\n",
       "      <td>0</td>\n",
       "      <td>2.079442</td>\n",
       "      <td>...</td>\n",
       "      <td>False</td>\n",
       "      <td>False</td>\n",
       "      <td>False</td>\n",
       "      <td>False</td>\n",
       "      <td>False</td>\n",
       "      <td>False</td>\n",
       "      <td>True</td>\n",
       "      <td>False</td>\n",
       "      <td>False</td>\n",
       "      <td>False</td>\n",
       "    </tr>\n",
       "    <tr>\n",
       "      <th>1</th>\n",
       "      <td>0.0</td>\n",
       "      <td>1.791759</td>\n",
       "      <td>0.0</td>\n",
       "      <td>106.68</td>\n",
       "      <td>0.693147</td>\n",
       "      <td>1</td>\n",
       "      <td>7.610358</td>\n",
       "      <td>11</td>\n",
       "      <td>0</td>\n",
       "      <td>1.609438</td>\n",
       "      <td>...</td>\n",
       "      <td>False</td>\n",
       "      <td>False</td>\n",
       "      <td>False</td>\n",
       "      <td>False</td>\n",
       "      <td>False</td>\n",
       "      <td>False</td>\n",
       "      <td>False</td>\n",
       "      <td>False</td>\n",
       "      <td>False</td>\n",
       "      <td>True</td>\n",
       "    </tr>\n",
       "    <tr>\n",
       "      <th>2</th>\n",
       "      <td>0.0</td>\n",
       "      <td>0.693147</td>\n",
       "      <td>0.0</td>\n",
       "      <td>50.00</td>\n",
       "      <td>0.000000</td>\n",
       "      <td>0</td>\n",
       "      <td>7.610358</td>\n",
       "      <td>2</td>\n",
       "      <td>0</td>\n",
       "      <td>1.609438</td>\n",
       "      <td>...</td>\n",
       "      <td>False</td>\n",
       "      <td>False</td>\n",
       "      <td>False</td>\n",
       "      <td>False</td>\n",
       "      <td>False</td>\n",
       "      <td>False</td>\n",
       "      <td>True</td>\n",
       "      <td>False</td>\n",
       "      <td>False</td>\n",
       "      <td>False</td>\n",
       "    </tr>\n",
       "    <tr>\n",
       "      <th>3</th>\n",
       "      <td>0.0</td>\n",
       "      <td>5.356586</td>\n",
       "      <td>0.0</td>\n",
       "      <td>100.00</td>\n",
       "      <td>0.693147</td>\n",
       "      <td>0</td>\n",
       "      <td>7.609862</td>\n",
       "      <td>5</td>\n",
       "      <td>1</td>\n",
       "      <td>1.098612</td>\n",
       "      <td>...</td>\n",
       "      <td>False</td>\n",
       "      <td>False</td>\n",
       "      <td>False</td>\n",
       "      <td>False</td>\n",
       "      <td>False</td>\n",
       "      <td>False</td>\n",
       "      <td>True</td>\n",
       "      <td>False</td>\n",
       "      <td>False</td>\n",
       "      <td>False</td>\n",
       "    </tr>\n",
       "    <tr>\n",
       "      <th>4</th>\n",
       "      <td>0.0</td>\n",
       "      <td>3.891820</td>\n",
       "      <td>0.0</td>\n",
       "      <td>77.00</td>\n",
       "      <td>0.000000</td>\n",
       "      <td>0</td>\n",
       "      <td>7.610358</td>\n",
       "      <td>4</td>\n",
       "      <td>0</td>\n",
       "      <td>1.386294</td>\n",
       "      <td>...</td>\n",
       "      <td>False</td>\n",
       "      <td>False</td>\n",
       "      <td>False</td>\n",
       "      <td>False</td>\n",
       "      <td>False</td>\n",
       "      <td>False</td>\n",
       "      <td>False</td>\n",
       "      <td>False</td>\n",
       "      <td>False</td>\n",
       "      <td>True</td>\n",
       "    </tr>\n",
       "  </tbody>\n",
       "</table>\n",
       "<p>5 rows × 23 columns</p>\n",
       "</div>"
      ],
      "text/plain": [
       "   car parking space  lead time  repeated  average price  special requests  \\\n",
       "0                0.0   5.416100       0.0          88.00          0.000000   \n",
       "1                0.0   1.791759       0.0         106.68          0.693147   \n",
       "2                0.0   0.693147       0.0          50.00          0.000000   \n",
       "3                0.0   5.356586       0.0         100.00          0.693147   \n",
       "4                0.0   3.891820       0.0          77.00          0.000000   \n",
       "\n",
       "   booking status      year  month  is_weekend  total nights  ...  \\\n",
       "0               1  7.608871     10           0      2.079442  ...   \n",
       "1               1  7.610358     11           0      1.609438  ...   \n",
       "2               0  7.610358      2           0      1.609438  ...   \n",
       "3               0  7.609862      5           1      1.098612  ...   \n",
       "4               0  7.610358      4           0      1.386294  ...   \n",
       "\n",
       "   room type_Room_Type 2  room type_Room_Type 3  room type_Room_Type 4  \\\n",
       "0                  False                  False                  False   \n",
       "1                  False                  False                  False   \n",
       "2                  False                  False                  False   \n",
       "3                  False                  False                  False   \n",
       "4                  False                  False                  False   \n",
       "\n",
       "   room type_Room_Type 5  room type_Room_Type 6  room type_Room_Type 7  \\\n",
       "0                  False                  False                  False   \n",
       "1                  False                  False                  False   \n",
       "2                  False                  False                  False   \n",
       "3                  False                  False                  False   \n",
       "4                  False                  False                  False   \n",
       "\n",
       "   type of meal_Meal Plan 1  type of meal_Meal Plan 2  \\\n",
       "0                      True                     False   \n",
       "1                     False                     False   \n",
       "2                      True                     False   \n",
       "3                      True                     False   \n",
       "4                     False                     False   \n",
       "\n",
       "   type of meal_Meal Plan 3  type of meal_Not Selected  \n",
       "0                     False                      False  \n",
       "1                     False                       True  \n",
       "2                     False                      False  \n",
       "3                     False                      False  \n",
       "4                     False                       True  \n",
       "\n",
       "[5 rows x 23 columns]"
      ]
     },
     "execution_count": 11,
     "metadata": {},
     "output_type": "execute_result"
    }
   ],
   "source": [
    "# Apply Label Encoding for binary categorical columns\n",
    "df[\"booking status\"] = LabelEncoder().fit_transform(df[\"booking status\"])  # Converts 'Canceled' & 'Not Canceled' to 0 & 1\n",
    "df[\"guest type\"] = LabelEncoder().fit_transform(df[\"guest type\"])  # Converts 'Family' & 'Individual/Couple' to numerical labels\n",
    "\n",
    "# Apply Target Encoding for \"market segment type\" (Encoding based on its relationship with the target)\n",
    "target_encoder = ce.TargetEncoder(cols=[\"market segment type\"])\n",
    "df[\"market segment type_encoded\"] = target_encoder.fit_transform(df[\"market segment type\"], df[\"booking status\"])\n",
    "\n",
    "# Drop the original \"market segment type\" column since it has been encoded\n",
    "df.drop(columns=[\"market segment type\"], inplace=True)\n",
    "\n",
    "# Apply One-Hot Encoding for nominal categorical columns ('room type' & 'type of meal')\n",
    "df_dummies = pd.get_dummies(df, columns=['room type', 'type of meal'])\n",
    "\n",
    "# Display the first few rows of the transformed dataframe\n",
    "df_dummies.head()"
   ]
  },
  {
   "cell_type": "markdown",
   "id": "710c2292",
   "metadata": {
    "papermill": {
     "duration": 0.009384,
     "end_time": "2025-02-10T22:21:13.831068",
     "exception": false,
     "start_time": "2025-02-10T22:21:13.821684",
     "status": "completed"
    },
    "tags": []
   },
   "source": [
    "###   🔹 Key Points:\n",
    "**✅ Uses LabelEncoder for binary categorical features (booking status & guest type).**\n",
    "\n",
    "**✅ Applies TargetEncoder for market segment type to capture its relationship with the target (booking status).**\n",
    "\n",
    "**✅ Uses One-Hot Encoding (pd.get_dummies) for room type & type of meal, since they are nominal categories.**\n",
    "\n",
    "**✅ Drops the original market segment type column after encoding to avoid redundancy.**"
   ]
  },
  {
   "cell_type": "markdown",
   "id": "1afc212f",
   "metadata": {
    "papermill": {
     "duration": 0.009405,
     "end_time": "2025-02-10T22:21:13.850093",
     "exception": false,
     "start_time": "2025-02-10T22:21:13.840688",
     "status": "completed"
    },
    "tags": []
   },
   "source": [
    "<a id=\"imbalance\"></a>\n",
    "# <b><span style='color:darkturquoise'>Step 3.4 |</span><span style='color:royalblue'> Check Imbalanced Data</span></b>"
   ]
  },
  {
   "cell_type": "code",
   "execution_count": 12,
   "id": "2cbcc274",
   "metadata": {
    "execution": {
     "iopub.execute_input": "2025-02-10T22:21:13.871038Z",
     "iopub.status.busy": "2025-02-10T22:21:13.870629Z",
     "iopub.status.idle": "2025-02-10T22:21:14.123232Z",
     "shell.execute_reply": "2025-02-10T22:21:14.122083Z"
    },
    "papermill": {
     "duration": 0.265269,
     "end_time": "2025-02-10T22:21:14.125180",
     "exception": false,
     "start_time": "2025-02-10T22:21:13.859911",
     "status": "completed"
    },
    "tags": []
   },
   "outputs": [
    {
     "name": "stderr",
     "output_type": "stream",
     "text": [
      "C:\\Users\\hassa\\AppData\\Local\\Temp\\ipykernel_9016\\3568075324.py:6: FutureWarning: \n",
      "\n",
      "Passing `palette` without assigning `hue` is deprecated and will be removed in v0.14.0. Assign the `x` variable to `hue` and set `legend=False` for the same effect.\n",
      "\n",
      "  ax = sns.barplot(x=percentage.index, y=percentage, palette=['darkturquoise', 'royalblue'])\n"
     ]
    },
    {
     "data": {
      "image/png": "[encoded data removed]",
      "text/plain": [
       "<Figure size 800x500 with 1 Axes>"
      ]
     },
     "metadata": {},
     "output_type": "display_data"
    }
   ],
   "source": [
    "# Calculating the percentage of each class\n",
    "percentage = df['booking status'].value_counts(normalize=True) * 100\n",
    "\n",
    "# Plotting the percentage of each class\n",
    "plt.figure(figsize=(8, 5))\n",
    "ax = sns.barplot(x=percentage.index, y=percentage, palette=['darkturquoise', 'royalblue'])\n",
    "plt.title('Percentage of Cancellations and Non-Cancellations')\n",
    "plt.xlabel('Is Canceled')\n",
    "plt.ylabel('Percentage (%)')\n",
    "plt.xticks(ticks=[0, 1], labels=['Not Canceled', 'Canceled'])\n",
    "plt.yticks(ticks=range(0,80,10))\n",
    "\n",
    "# Displaying the percentage on the bars\n",
    "for i, p in enumerate(percentage):\n",
    "    ax.text(i, p + 0.5, f'{p:.2f}%', ha='center', va='bottom')\n",
    "\n",
    "plt.show()"
   ]
  },
  {
   "cell_type": "markdown",
   "id": "c2248a2b",
   "metadata": {
    "papermill": {
     "duration": 0.010101,
     "end_time": "2025-02-10T22:21:14.146126",
     "exception": false,
     "start_time": "2025-02-10T22:21:14.136025",
     "status": "completed"
    },
    "tags": []
   },
   "source": [
    "### **Inference:**\n",
    "The bar plot shows the percentage of cancellations and non-cancellations in the dataset.  \n",
    "\n",
    "- **Approximately 32.78%** of the bookings were canceled.  \n",
    "- **67.22%** of the bookings were not canceled.  \n",
    "\n",
    "This indicates that there is **some imbalance** in the target variable, but it is **not highly imbalanced**.  \n",
    "- A dataset is considered **highly imbalanced** if one class represents **over 80-90%** of the data.  \n",
    "- In this case, the **minority class (canceled)** is still well-represented.  \n",
    "\n",
    "### **Next Steps:**\n",
    "- It **may not be necessary** to apply resampling techniques like **oversampling (SMOTE)** or **undersampling**.  \n",
    "- However, it is always **best to experiment** with different approaches and evaluate the **model's performance** to determine the best strategy.  \n"
   ]
  },
  {
   "cell_type": "markdown",
   "id": "0ab492f8",
   "metadata": {
    "papermill": {
     "duration": 0.010061,
     "end_time": "2025-02-10T22:21:14.166623",
     "exception": false,
     "start_time": "2025-02-10T22:21:14.156562",
     "status": "completed"
    },
    "tags": []
   },
   "source": [
    "<a id=\"split\"></a>\n",
    "# <b><span style='color:darkturquoise'>Step 3.5 |</span><span style='color:royalblue'> Scaling Numerical Features Using RobustScaler</span></b>\n",
    "\n",
    "###   🚀 Why RobustScaler?\n",
    "\n",
    "**Better for skewed data & outliers: Uses the median and IQR (Interquartile Range) instead of mean & standard deviation.**\n",
    "\n",
    "**Keeps feature relationships intact while making data more stable for models like logistic regression, SVM, and neural networks.**\n",
    "\n",
    "**Ideal when data contains extreme values that could distort standard normalization methods.**"
   ]
  },
  {
   "cell_type": "code",
   "execution_count": 13,
   "id": "760132cb",
   "metadata": {
    "execution": {
     "iopub.execute_input": "2025-02-10T22:21:14.188701Z",
     "iopub.status.busy": "2025-02-10T22:21:14.188370Z",
     "iopub.status.idle": "2025-02-10T22:21:14.231687Z",
     "shell.execute_reply": "2025-02-10T22:21:14.230470Z"
    },
    "papermill": {
     "duration": 0.056377,
     "end_time": "2025-02-10T22:21:14.233421",
     "exception": false,
     "start_time": "2025-02-10T22:21:14.177044",
     "status": "completed"
    },
    "tags": []
   },
   "outputs": [
    {
     "data": {
      "text/html": [
       "<div>\n",
       "<style scoped>\n",
       "    .dataframe tbody tr th:only-of-type {\n",
       "        vertical-align: middle;\n",
       "    }\n",
       "\n",
       "    .dataframe tbody tr th {\n",
       "        vertical-align: top;\n",
       "    }\n",
       "\n",
       "    .dataframe thead th {\n",
       "        text-align: right;\n",
       "    }\n",
       "</style>\n",
       "<table border=\"1\" class=\"dataframe\">\n",
       "  <thead>\n",
       "    <tr style=\"text-align: right;\">\n",
       "      <th></th>\n",
       "      <th>car parking space</th>\n",
       "      <th>lead time</th>\n",
       "      <th>repeated</th>\n",
       "      <th>average price</th>\n",
       "      <th>special requests</th>\n",
       "      <th>booking status</th>\n",
       "      <th>year</th>\n",
       "      <th>month</th>\n",
       "      <th>is_weekend</th>\n",
       "      <th>total nights</th>\n",
       "      <th>...</th>\n",
       "      <th>room type_Room_Type 2</th>\n",
       "      <th>room type_Room_Type 3</th>\n",
       "      <th>room type_Room_Type 4</th>\n",
       "      <th>room type_Room_Type 5</th>\n",
       "      <th>room type_Room_Type 6</th>\n",
       "      <th>room type_Room_Type 7</th>\n",
       "      <th>type of meal_Meal Plan 1</th>\n",
       "      <th>type of meal_Meal Plan 2</th>\n",
       "      <th>type of meal_Meal Plan 3</th>\n",
       "      <th>type of meal_Not Selected</th>\n",
       "    </tr>\n",
       "  </thead>\n",
       "  <tbody>\n",
       "    <tr>\n",
       "      <th>0</th>\n",
       "      <td>0.0</td>\n",
       "      <td>0.693851</td>\n",
       "      <td>0.0</td>\n",
       "      <td>-0.288413</td>\n",
       "      <td>0.000000</td>\n",
       "      <td>1</td>\n",
       "      <td>7.608871</td>\n",
       "      <td>10</td>\n",
       "      <td>0</td>\n",
       "      <td>1.356915</td>\n",
       "      <td>...</td>\n",
       "      <td>False</td>\n",
       "      <td>False</td>\n",
       "      <td>False</td>\n",
       "      <td>False</td>\n",
       "      <td>False</td>\n",
       "      <td>False</td>\n",
       "      <td>True</td>\n",
       "      <td>False</td>\n",
       "      <td>False</td>\n",
       "      <td>False</td>\n",
       "    </tr>\n",
       "    <tr>\n",
       "      <th>1</th>\n",
       "      <td>0.0</td>\n",
       "      <td>-1.161156</td>\n",
       "      <td>0.0</td>\n",
       "      <td>0.182116</td>\n",
       "      <td>0.693147</td>\n",
       "      <td>1</td>\n",
       "      <td>7.610358</td>\n",
       "      <td>11</td>\n",
       "      <td>0</td>\n",
       "      <td>0.436829</td>\n",
       "      <td>...</td>\n",
       "      <td>False</td>\n",
       "      <td>False</td>\n",
       "      <td>False</td>\n",
       "      <td>False</td>\n",
       "      <td>False</td>\n",
       "      <td>False</td>\n",
       "      <td>False</td>\n",
       "      <td>False</td>\n",
       "      <td>False</td>\n",
       "      <td>True</td>\n",
       "    </tr>\n",
       "    <tr>\n",
       "      <th>2</th>\n",
       "      <td>0.0</td>\n",
       "      <td>-1.723446</td>\n",
       "      <td>0.0</td>\n",
       "      <td>-1.245592</td>\n",
       "      <td>0.000000</td>\n",
       "      <td>0</td>\n",
       "      <td>7.610358</td>\n",
       "      <td>2</td>\n",
       "      <td>0</td>\n",
       "      <td>0.436829</td>\n",
       "      <td>...</td>\n",
       "      <td>False</td>\n",
       "      <td>False</td>\n",
       "      <td>False</td>\n",
       "      <td>False</td>\n",
       "      <td>False</td>\n",
       "      <td>False</td>\n",
       "      <td>True</td>\n",
       "      <td>False</td>\n",
       "      <td>False</td>\n",
       "      <td>False</td>\n",
       "    </tr>\n",
       "    <tr>\n",
       "      <th>3</th>\n",
       "      <td>0.0</td>\n",
       "      <td>0.663391</td>\n",
       "      <td>0.0</td>\n",
       "      <td>0.013854</td>\n",
       "      <td>0.693147</td>\n",
       "      <td>0</td>\n",
       "      <td>7.609862</td>\n",
       "      <td>5</td>\n",
       "      <td>1</td>\n",
       "      <td>-0.563171</td>\n",
       "      <td>...</td>\n",
       "      <td>False</td>\n",
       "      <td>False</td>\n",
       "      <td>False</td>\n",
       "      <td>False</td>\n",
       "      <td>False</td>\n",
       "      <td>False</td>\n",
       "      <td>True</td>\n",
       "      <td>False</td>\n",
       "      <td>False</td>\n",
       "      <td>False</td>\n",
       "    </tr>\n",
       "    <tr>\n",
       "      <th>4</th>\n",
       "      <td>0.0</td>\n",
       "      <td>-0.086304</td>\n",
       "      <td>0.0</td>\n",
       "      <td>-0.565491</td>\n",
       "      <td>0.000000</td>\n",
       "      <td>0</td>\n",
       "      <td>7.610358</td>\n",
       "      <td>4</td>\n",
       "      <td>0</td>\n",
       "      <td>0.000000</td>\n",
       "      <td>...</td>\n",
       "      <td>False</td>\n",
       "      <td>False</td>\n",
       "      <td>False</td>\n",
       "      <td>False</td>\n",
       "      <td>False</td>\n",
       "      <td>False</td>\n",
       "      <td>False</td>\n",
       "      <td>False</td>\n",
       "      <td>False</td>\n",
       "      <td>True</td>\n",
       "    </tr>\n",
       "  </tbody>\n",
       "</table>\n",
       "<p>5 rows × 23 columns</p>\n",
       "</div>"
      ],
      "text/plain": [
       "   car parking space  lead time  repeated  average price  special requests  \\\n",
       "0                0.0   0.693851       0.0      -0.288413          0.000000   \n",
       "1                0.0  -1.161156       0.0       0.182116          0.693147   \n",
       "2                0.0  -1.723446       0.0      -1.245592          0.000000   \n",
       "3                0.0   0.663391       0.0       0.013854          0.693147   \n",
       "4                0.0  -0.086304       0.0      -0.565491          0.000000   \n",
       "\n",
       "   booking status      year  month  is_weekend  total nights  ...  \\\n",
       "0               1  7.608871     10           0      1.356915  ...   \n",
       "1               1  7.610358     11           0      0.436829  ...   \n",
       "2               0  7.610358      2           0      0.436829  ...   \n",
       "3               0  7.609862      5           1     -0.563171  ...   \n",
       "4               0  7.610358      4           0      0.000000  ...   \n",
       "\n",
       "   room type_Room_Type 2  room type_Room_Type 3  room type_Room_Type 4  \\\n",
       "0                  False                  False                  False   \n",
       "1                  False                  False                  False   \n",
       "2                  False                  False                  False   \n",
       "3                  False                  False                  False   \n",
       "4                  False                  False                  False   \n",
       "\n",
       "   room type_Room_Type 5  room type_Room_Type 6  room type_Room_Type 7  \\\n",
       "0                  False                  False                  False   \n",
       "1                  False                  False                  False   \n",
       "2                  False                  False                  False   \n",
       "3                  False                  False                  False   \n",
       "4                  False                  False                  False   \n",
       "\n",
       "   type of meal_Meal Plan 1  type of meal_Meal Plan 2  \\\n",
       "0                      True                     False   \n",
       "1                     False                     False   \n",
       "2                      True                     False   \n",
       "3                      True                     False   \n",
       "4                     False                     False   \n",
       "\n",
       "   type of meal_Meal Plan 3  type of meal_Not Selected  \n",
       "0                     False                      False  \n",
       "1                     False                       True  \n",
       "2                     False                      False  \n",
       "3                     False                      False  \n",
       "4                     False                       True  \n",
       "\n",
       "[5 rows x 23 columns]"
      ]
     },
     "execution_count": 13,
     "metadata": {},
     "output_type": "execute_result"
    }
   ],
   "source": [
    "# Define the numerical columns to scale\n",
    "columns_to_scale = ['lead time', 'average price', 'total nights']\n",
    "\n",
    "# Initialize RobustScaler (less sensitive to outliers compared to StandardScaler)\n",
    "scaler = RobustScaler()\n",
    "\n",
    "# Create a copy of the encoded dataframe to preserve the original\n",
    "df_scaled = df_dummies.copy()\n",
    "\n",
    "# Apply RobustScaler transformation only to selected numerical columns\n",
    "df_scaled[columns_to_scale] = scaler.fit_transform(df[columns_to_scale])\n",
    "\n",
    "# Display the first few rows of the scaled dataframe\n",
    "df_scaled.head()"
   ]
  },
  {
   "cell_type": "markdown",
   "id": "503cc9dd",
   "metadata": {
    "papermill": {
     "duration": 0.010441,
     "end_time": "2025-02-10T22:21:14.254763",
     "exception": false,
     "start_time": "2025-02-10T22:21:14.244322",
     "status": "completed"
    },
    "tags": []
   },
   "source": [
    "###   🔹 Key Points:\n",
    "\n",
    "**✅ Scales selected numerical columns (lead time, average price, total nights).**\n",
    "\n",
    "**✅ Creates a copy of the encoded dataframe (df_dummies.copy()) to avoid modifying the original data.**\n",
    "\n",
    "**✅ Ensures features are transformed consistently before feeding them into a machine learning model.**"
   ]
  },
  {
   "cell_type": "markdown",
   "id": "681008c3",
   "metadata": {
    "papermill": {
     "duration": 0.010295,
     "end_time": "2025-02-10T22:21:14.275757",
     "exception": false,
     "start_time": "2025-02-10T22:21:14.265462",
     "status": "completed"
    },
    "tags": []
   },
   "source": [
    "<a id=\"split\"></a>\n",
    "# <b><span style='color:darkturquoise'>Step 3.6 |</span><span style='color:royalblue'> Splitting Data into Training & Testing Sets with Stratification</span></b>"
   ]
  },
  {
   "cell_type": "code",
   "execution_count": 14,
   "id": "a02d7a77",
   "metadata": {
    "execution": {
     "iopub.execute_input": "2025-02-10T22:21:14.298187Z",
     "iopub.status.busy": "2025-02-10T22:21:14.297812Z",
     "iopub.status.idle": "2025-02-10T22:21:14.331928Z",
     "shell.execute_reply": "2025-02-10T22:21:14.331080Z"
    },
    "papermill": {
     "duration": 0.047564,
     "end_time": "2025-02-10T22:21:14.333865",
     "exception": false,
     "start_time": "2025-02-10T22:21:14.286301",
     "status": "completed"
    },
    "tags": []
   },
   "outputs": [],
   "source": [
    "# Separate features (X) and target variable (y)\n",
    "X = df_scaled.drop(columns='booking status', axis=1)  # Features (all columns except target)\n",
    "y = df_scaled['booking status']  # Target variable (booking status)\n",
    "\n",
    "# Split data into 80% training and 20% testing while maintaining class balance\n",
    "X_train, X_test, y_train, y_test = train_test_split(\n",
    "    X, y, test_size=0.2, random_state=42, stratify=y\n",
    ")\n",
    "\n",
    "# Now, X_train & y_train are used for model training, and X_test & y_test for evaluation."
   ]
  },
  {
   "cell_type": "markdown",
   "id": "12352ec1",
   "metadata": {
    "papermill": {
     "duration": 0.010308,
     "end_time": "2025-02-10T22:21:14.355127",
     "exception": false,
     "start_time": "2025-02-10T22:21:14.344819",
     "status": "completed"
    },
    "tags": []
   },
   "source": [
    "###   🔹 Key Points:\n",
    "\n",
    "**✅ Separates features (X) and target variable (y) before model training.**\n",
    "\n",
    "**✅ Uses train_test_split from sklearn.model_selection to split data into 80% training & 20% testing.**\n",
    "\n",
    "**✅ Stratification (stratify=y) ensures the class distribution in y_train and y_test remains similar to the original dataset.**\n",
    "\n",
    "**✅ random_state=42 ensures reproducibility so results remain consistent across runs.**"
   ]
  },
  {
   "cell_type": "markdown",
   "id": "47c70d78",
   "metadata": {
    "papermill": {
     "duration": 0.010384,
     "end_time": "2025-02-10T22:21:14.376088",
     "exception": false,
     "start_time": "2025-02-10T22:21:14.365704",
     "status": "completed"
    },
    "tags": []
   },
   "source": [
    "<a id=\"dt\"></a>\n",
    "# <p style=\"background-color:royalblue; font-family:calibri; color:white; font-size:150%; text-align:center; border-radius:15px 50px;\">Step 4 |  Model Building</p>"
   ]
  },
  {
   "cell_type": "markdown",
   "id": "d252f1d4",
   "metadata": {
    "papermill": {
     "duration": 0.010773,
     "end_time": "2025-02-10T22:21:14.397510",
     "exception": false,
     "start_time": "2025-02-10T22:21:14.386737",
     "status": "completed"
    },
    "tags": []
   },
   "source": [
    "<a id=\"split\"></a>\n",
    "## <b><span style='color:darkturquoise'>Step 4.1 |</span><span style='color:royalblue'> Training & Evaluating Logistic Regression Model</span></b>"
   ]
  },
  {
   "cell_type": "code",
   "execution_count": 15,
   "id": "0138419f",
   "metadata": {
    "execution": {
     "iopub.execute_input": "2025-02-10T22:21:14.420507Z",
     "iopub.status.busy": "2025-02-10T22:21:14.420107Z",
     "iopub.status.idle": "2025-02-10T22:21:14.753055Z",
     "shell.execute_reply": "2025-02-10T22:21:14.751729Z"
    },
    "papermill": {
     "duration": 0.346476,
     "end_time": "2025-02-10T22:21:14.754938",
     "exception": false,
     "start_time": "2025-02-10T22:21:14.408462",
     "status": "completed"
    },
    "tags": []
   },
   "outputs": [
    {
     "name": "stdout",
     "output_type": "stream",
     "text": [
      "              precision    recall  f1-score   support\n",
      "\n",
      "           0       0.69      0.57      0.62      2377\n",
      "           1       0.81      0.87      0.84      4873\n",
      "\n",
      "    accuracy                           0.78      7250\n",
      "   macro avg       0.75      0.72      0.73      7250\n",
      "weighted avg       0.77      0.78      0.77      7250\n",
      "\n"
     ]
    },
    {
     "name": "stderr",
     "output_type": "stream",
     "text": [
      "c:\\Users\\hassa\\AppData\\Local\\Programs\\Python\\Python313\\Lib\\site-packages\\sklearn\\linear_model\\_logistic.py:465: ConvergenceWarning: lbfgs failed to converge (status=1):\n",
      "STOP: TOTAL NO. OF ITERATIONS REACHED LIMIT.\n",
      "\n",
      "Increase the number of iterations (max_iter) or scale the data as shown in:\n",
      "    https://scikit-learn.org/stable/modules/preprocessing.html\n",
      "Please also refer to the documentation for alternative solver options:\n",
      "    https://scikit-learn.org/stable/modules/linear_model.html#logistic-regression\n",
      "  n_iter_i = _check_optimize_result(\n"
     ]
    }
   ],
   "source": [
    "# Initialize Logistic Regression model\n",
    "logr = LogisticRegression()\n",
    "\n",
    "# Train the model using training data\n",
    "logr.fit(X_train, y_train)\n",
    "\n",
    "# Make predictions on the test set\n",
    "y_pred = logr.predict(X_test)\n",
    "\n",
    "# Print classification report to evaluate model performance\n",
    "print(classification_report(y_test, y_pred))"
   ]
  },
  {
   "cell_type": "markdown",
   "id": "c187a86f",
   "metadata": {
    "papermill": {
     "duration": 0.010379,
     "end_time": "2025-02-10T22:21:14.777196",
     "exception": false,
     "start_time": "2025-02-10T22:21:14.766817",
     "status": "completed"
    },
    "tags": []
   },
   "source": [
    "### **📌 Model Performance Insights Logistic Regression Model**  \n",
    "\n",
    "**🔹 Key Metrics Analysis:**\n",
    "\n",
    "#### **Class `0` (Not Canceled)**\n",
    "- **Precision: 0.69** → 69% of predicted non-cancellations were actually correct.\n",
    "- **Recall: 0.58** → Only 58% of actual non-cancellations were correctly identified.\n",
    "- **F1-Score: 0.63** → A balance between precision & recall, showing moderate performance.\n",
    "\n",
    "#### **Class `1` (Canceled)**\n",
    "- **Precision: 0.81** → 81% of predicted cancellations were correct.\n",
    "- **Recall: 0.87** → 87% of actual cancellations were correctly classified.\n",
    "- **F1-Score: 0.84** → Stronger performance compared to class `0`.\n",
    "\n",
    "#### **🔹 Overall Performance:**\n",
    "- **Accuracy: 78%** → The model correctly classified 78% of total bookings.\n",
    "- **Macro Average (0.75, 0.73, 0.74)** → Indicates a slight imbalance in class performance.\n",
    "- **Weighted Average (0.77, 0.78, 0.77)** → Weighted by class frequency, showing close alignment with accuracy.\n"
   ]
  },
  {
   "cell_type": "markdown",
   "id": "2ec87007",
   "metadata": {
    "papermill": {
     "duration": 0.010531,
     "end_time": "2025-02-10T22:21:14.798354",
     "exception": false,
     "start_time": "2025-02-10T22:21:14.787823",
     "status": "completed"
    },
    "tags": []
   },
   "source": [
    "<a id=\"split\"></a>\n",
    "## <b><span style='color:darkturquoise'>Step 4.2 |</span><span style='color:royalblue'> Training & Evaluating K-Nearest Neighbors (KNN) Classifier</span></b>"
   ]
  },
  {
   "cell_type": "code",
   "execution_count": 16,
   "id": "46b3f9c4",
   "metadata": {
    "execution": {
     "iopub.execute_input": "2025-02-10T22:21:14.824237Z",
     "iopub.status.busy": "2025-02-10T22:21:14.823837Z",
     "iopub.status.idle": "2025-02-10T22:21:15.805223Z",
     "shell.execute_reply": "2025-02-10T22:21:15.803746Z"
    },
    "papermill": {
     "duration": 0.997977,
     "end_time": "2025-02-10T22:21:15.806874",
     "exception": false,
     "start_time": "2025-02-10T22:21:14.808897",
     "status": "completed"
    },
    "tags": []
   },
   "outputs": [
    {
     "name": "stdout",
     "output_type": "stream",
     "text": [
      "              precision    recall  f1-score   support\n",
      "\n",
      "           0       0.77      0.73      0.75      2377\n",
      "           1       0.87      0.89      0.88      4873\n",
      "\n",
      "    accuracy                           0.84      7250\n",
      "   macro avg       0.82      0.81      0.82      7250\n",
      "weighted avg       0.84      0.84      0.84      7250\n",
      "\n"
     ]
    }
   ],
   "source": [
    "# Initialize K-Nearest Neighbors (KNN) classifier with 5 neighbors\n",
    "knn = KNeighborsClassifier(n_neighbors=5)\n",
    "\n",
    "# Train the model using the training data (converted to NumPy arrays)\n",
    "knn.fit(np.array(X_train), np.array(y_train))\n",
    "\n",
    "# Make predictions on the test data\n",
    "knn_ypred = knn.predict(np.array(X_test))\n",
    "\n",
    "# Print classification report to evaluate model performance\n",
    "print(classification_report(y_test, knn_ypred))"
   ]
  },
  {
   "cell_type": "markdown",
   "id": "fba2e291",
   "metadata": {
    "papermill": {
     "duration": 0.010415,
     "end_time": "2025-02-10T22:21:15.828595",
     "exception": false,
     "start_time": "2025-02-10T22:21:15.818180",
     "status": "completed"
    },
    "tags": []
   },
   "source": [
    "### **📌 Model Performance Insights (KNN Classifier)**\n",
    "\n",
    "**🔹 Key Metrics Analysis:**\n",
    "#### **Class `0` (Not Canceled)**\n",
    "- **Precision: 0.77** → 77% of predicted non-cancellations were correct.\n",
    "- **Recall: 0.73** → The model correctly identified 73% of actual non-cancellations.\n",
    "- **F1-Score: 0.75** → Balanced measure of precision & recall, showing decent performance.\n",
    "\n",
    "#### **Class `1` (Canceled)**\n",
    "- **Precision: 0.87** → 87% of predicted cancellations were correct.\n",
    "- **Recall: 0.89** → 89% of actual cancellations were correctly classified.\n",
    "- **F1-Score: 0.88** → Stronger performance compared to class `0`.\n",
    "\n",
    "#### **Overall Performance:**\n",
    "- **Accuracy: 84%** → The model correctly classified 84% of total bookings.\n",
    "- **Macro Avg (0.82, 0.81, 0.82)** → Indicates some imbalance but still reasonable performance.\n",
    "- **Weighted Avg (0.84, 0.84, 0.84)** → Weighted by class frequency, aligning closely with accuracy.\n"
   ]
  },
  {
   "cell_type": "markdown",
   "id": "c0e301db",
   "metadata": {
    "papermill": {
     "duration": 0.010528,
     "end_time": "2025-02-10T22:21:15.849784",
     "exception": false,
     "start_time": "2025-02-10T22:21:15.839256",
     "status": "completed"
    },
    "tags": []
   },
   "source": [
    "<a id=\"split\"></a>\n",
    "## <b><span style='color:darkturquoise'>Step 4.3 |</span><span style='color:royalblue'> Training & Evaluating Decision Tree Classifier</span></b>"
   ]
  },
  {
   "cell_type": "code",
   "execution_count": 17,
   "id": "728ef485",
   "metadata": {
    "execution": {
     "iopub.execute_input": "2025-02-10T22:21:15.873128Z",
     "iopub.status.busy": "2025-02-10T22:21:15.872742Z",
     "iopub.status.idle": "2025-02-10T22:21:16.017376Z",
     "shell.execute_reply": "2025-02-10T22:21:16.015982Z"
    },
    "papermill": {
     "duration": 0.158528,
     "end_time": "2025-02-10T22:21:16.019171",
     "exception": false,
     "start_time": "2025-02-10T22:21:15.860643",
     "status": "completed"
    },
    "tags": []
   },
   "outputs": [
    {
     "name": "stdout",
     "output_type": "stream",
     "text": [
      "              precision    recall  f1-score   support\n",
      "\n",
      "           0       0.79      0.80      0.80      2377\n",
      "           1       0.90      0.90      0.90      4873\n",
      "\n",
      "    accuracy                           0.87      7250\n",
      "   macro avg       0.85      0.85      0.85      7250\n",
      "weighted avg       0.87      0.87      0.87      7250\n",
      "\n"
     ]
    }
   ],
   "source": [
    "# Initialize the Decision Tree Classifier with default parameters\n",
    "tree = DecisionTreeClassifier()\n",
    "\n",
    "# Train the Decision Tree model using the training dataset\n",
    "tree.fit(X_train, y_train)\n",
    "\n",
    "# Make predictions on the test dataset\n",
    "y_pred = tree.predict(X_test)\n",
    "\n",
    "# Evaluate the model performance using classification report\n",
    "tree_acc = classification_report(y_test, y_pred)\n",
    "\n",
    "# Print the classification report\n",
    "print(tree_acc)\n"
   ]
  },
  {
   "cell_type": "markdown",
   "id": "9193ea7b",
   "metadata": {
    "papermill": {
     "duration": 0.01101,
     "end_time": "2025-02-10T22:21:16.041912",
     "exception": false,
     "start_time": "2025-02-10T22:21:16.030902",
     "status": "completed"
    },
    "tags": []
   },
   "source": [
    "### **📌 Model Performance Insights for Decision Tree Classifier**  \n",
    "\n",
    "🔹 **Key Metrics Analysis:**  \n",
    "\n",
    "#### **Class 0 (Not Canceled)**  \n",
    "- **Precision:** 0.79 → 79% of predicted non-cancellations were actually correct.  \n",
    "- **Recall:** 0.81 → 81% of actual non-cancellations were correctly identified.  \n",
    "- **F1-Score:** 0.80 → A balanced measure of precision & recall.  \n",
    "\n",
    "#### **Class 1 (Canceled)**  \n",
    "- **Precision:** 0.90 → 90% of predicted cancellations were correct.  \n",
    "- **Recall:** 0.90 → 90% of actual cancellations were correctly classified.  \n",
    "- **F1-Score:** 0.90 → Strong classification performance.  \n",
    "\n",
    "#### **Overall Performance:**  \n",
    "✅ **Accuracy: 87%** → The model correctly classified 87% of total bookings.  \n",
    "✅ **Macro Average (0.85, 0.85, 0.85)** → Indicates a well-balanced performance across both classes.  \n",
    "✅ **Weighted Average (0.87, 0.87, 0.87)** → Reflects overall class performance, considering class distribution.  \n",
    "\n",
    "🔍 **Observations:**  \n",
    "- The Decision Tree model performs well with high precision and recall for both classes.  \n",
    "- There is a slight imbalance, but the model handles both classes effectively.  "
   ]
  },
  {
   "cell_type": "markdown",
   "id": "0b636eb3",
   "metadata": {
    "papermill": {
     "duration": 0.010618,
     "end_time": "2025-02-10T22:21:16.063244",
     "exception": false,
     "start_time": "2025-02-10T22:21:16.052626",
     "status": "completed"
    },
    "tags": []
   },
   "source": [
    "<a id=\"dt_hp\"></a>\n",
    "## <b><span style='color:darkturquoise'>Step 4.4 |</span><span style='color:royalblue'>  DT Hyperparameter Tuning</span></b>"
   ]
  },
  {
   "cell_type": "code",
   "execution_count": 18,
   "id": "2eed31ca",
   "metadata": {
    "execution": {
     "iopub.execute_input": "2025-02-10T22:21:16.086507Z",
     "iopub.status.busy": "2025-02-10T22:21:16.086169Z",
     "iopub.status.idle": "2025-02-10T22:21:49.289838Z",
     "shell.execute_reply": "2025-02-10T22:21:49.288717Z"
    },
    "papermill": {
     "duration": 33.228137,
     "end_time": "2025-02-10T22:21:49.302350",
     "exception": false,
     "start_time": "2025-02-10T22:21:16.074213",
     "status": "completed"
    },
    "tags": []
   },
   "outputs": [
    {
     "name": "stdout",
     "output_type": "stream",
     "text": [
      "Best parameters :  {'max_depth': 15, 'max_features': None, 'min_samples_leaf': 1, 'min_samples_split': 10} \n",
      "\n",
      "              precision    recall  f1-score   support\n",
      "\n",
      "           0       0.81      0.79      0.80      2377\n",
      "           1       0.90      0.91      0.90      4873\n",
      "\n",
      "    accuracy                           0.87      7250\n",
      "   macro avg       0.85      0.85      0.85      7250\n",
      "weighted avg       0.87      0.87      0.87      7250\n",
      "\n"
     ]
    }
   ],
   "source": [
    "# Define the parameter grid for tuning the Decision Tree model\n",
    "param_grid = { \n",
    "    'max_depth': [10, 15, 20, 30, None],  # Control tree depth to prevent overfitting\n",
    "    'min_samples_split': [5, 10, 20],  # Minimum samples required to split a node\n",
    "    'min_samples_leaf': [1, 2, 5],  # Minimum samples required in a leaf node\n",
    "    'max_features': ['sqrt', 'log2', None]  # Feature selection strategies to improve performance\n",
    "}\n",
    "\n",
    "# Initialize GridSearchCV to find the best hyperparameters\n",
    "grid_search = GridSearchCV(tree, param_grid, cv=5, scoring='accuracy')  \n",
    "# cv=5 applies 5-fold cross-validation to find the best parameters\n",
    "grid_search.fit(X_train, y_train)  # Train the model with different hyperparameter combinations\n",
    "\n",
    "# Display the best hyperparameter combination found\n",
    "print(\"Best parameters : \", grid_search.best_params_, \"\\n\")\n",
    "\n",
    "# Train a new Decision Tree model using the best parameters found\n",
    "tree_grid = DecisionTreeClassifier(**grid_search.best_params_)\n",
    "tree_grid.fit(X_train, y_train)  # Fit the optimized model on the training data\n",
    "\n",
    "# Make predictions on the test set\n",
    "y_pred = tree_grid.predict(X_test)\n",
    "\n",
    "# Print classification report to evaluate model performance\n",
    "print(classification_report(y_test, y_pred))  \n"
   ]
  },
  {
   "cell_type": "markdown",
   "id": "24dc6d9e",
   "metadata": {
    "papermill": {
     "duration": 0.011073,
     "end_time": "2025-02-10T22:21:49.325970",
     "exception": false,
     "start_time": "2025-02-10T22:21:49.314897",
     "status": "completed"
    },
    "tags": []
   },
   "source": [
    "### **📌 Key Takeaways from Decision Tree Model Tuning**  \n",
    "\n",
    "✅ **Improved Precision for Non-Cancellations (Class 0)** → Fewer false positives when predicting non-cancellations.  \n",
    "\n",
    "✅ **Higher Recall for Cancellations (Class 1)** → The model correctly identifies more canceled bookings (91% vs. 89%).  \n",
    "\n",
    "⚖️ **Balanced Trade-off** → While recall for non-cancellations slightly dropped, the model's ability to detect cancellations improved, which is often more critical in real-world scenarios.  \n",
    "\n",
    "📊 **No Change in Overall Accuracy (87%)** → The tuning helped refine precision and recall without affecting accuracy.  \n",
    "\n",
    "🔍 **Better Generalization** → The optimized hyperparameters prevent overfitting while maintaining strong performance.  \n",
    "\n",
    "🚀 **Final Verdict:** The tuned model is **more reliable** for predicting cancellations while maintaining overall performance.  \n"
   ]
  },
  {
   "cell_type": "markdown",
   "id": "9b920226",
   "metadata": {
    "papermill": {
     "duration": 0.010484,
     "end_time": "2025-02-10T22:21:49.347281",
     "exception": false,
     "start_time": "2025-02-10T22:21:49.336797",
     "status": "completed"
    },
    "tags": []
   },
   "source": [
    "<a id=\"dt_hp\"></a>\n",
    "## <b><span style='color:darkturquoise'>Step 4.5 |</span><span style='color:royalblue'> Training & Evaluating Random Forest Classifier</span></b>"
   ]
  },
  {
   "cell_type": "code",
   "execution_count": 19,
   "id": "742946b1",
   "metadata": {
    "execution": {
     "iopub.execute_input": "2025-02-10T22:21:49.370149Z",
     "iopub.status.busy": "2025-02-10T22:21:49.369769Z",
     "iopub.status.idle": "2025-02-10T22:21:52.138962Z",
     "shell.execute_reply": "2025-02-10T22:21:52.137704Z"
    },
    "papermill": {
     "duration": 2.782517,
     "end_time": "2025-02-10T22:21:52.140606",
     "exception": false,
     "start_time": "2025-02-10T22:21:49.358089",
     "status": "completed"
    },
    "tags": []
   },
   "outputs": [
    {
     "name": "stdout",
     "output_type": "stream",
     "text": [
      "Classification Report:\n",
      "               precision    recall  f1-score   support\n",
      "\n",
      "           0       0.86      0.81      0.83      2377\n",
      "           1       0.91      0.93      0.92      4873\n",
      "\n",
      "    accuracy                           0.89      7250\n",
      "   macro avg       0.88      0.87      0.88      7250\n",
      "weighted avg       0.89      0.89      0.89      7250\n",
      "\n"
     ]
    }
   ],
   "source": [
    "# Create a Random Forest model with 100 decision trees and a fixed random state for reproducibility\n",
    "rf_model = RandomForestClassifier(n_estimators=100, random_state=42)\n",
    "\n",
    "# Train the model using the training data (X_train as features, y_train as target labels)\n",
    "rf_model.fit(X_train, y_train)\n",
    "\n",
    "# Make predictions on the test data\n",
    "y_pred_rf = rf_model.predict(X_test)\n",
    "\n",
    "# Generate and display a classification report (precision, recall, F1-score) for model evaluation\n",
    "print(\"Classification Report:\\n\", classification_report(y_test, y_pred_rf))"
   ]
  },
  {
   "cell_type": "markdown",
   "id": "8eac0345",
   "metadata": {
    "papermill": {
     "duration": 0.064761,
     "end_time": "2025-02-10T22:21:52.216636",
     "exception": false,
     "start_time": "2025-02-10T22:21:52.151875",
     "status": "completed"
    },
    "tags": []
   },
   "source": [
    "### 🔹 **Observations & Insights**  \n",
    "\n",
    "- ✅ **Overall Accuracy: 89%** → The model performs well in predicting hotel booking cancellations.  \n",
    "- ✅ **Class 0 (Not Canceled)**:  \n",
    "  - **Precision: 86%** → 86% of predicted \"Not Canceled\" bookings were correct.  \n",
    "  - **Recall: 81%** → The model correctly identified 81% of actual \"Not Canceled\" bookings.  \n",
    "  - **F1-Score: 83%** → Balanced trade-off between precision and recall.  \n",
    "\n",
    "- ✅ **Class 1 (Canceled)**:  \n",
    "  - **Precision: 91%** → 91% of predicted cancellations were correct.  \n",
    "  - **Recall: 93%** → The model successfully identified 93% of actual cancellations.  \n",
    "  - **F1-Score: 92%** → Strong overall performance in detecting cancellations.  \n",
    "\n",
    "- ✅ **Macro Average (0.88, 0.87, 0.88)** → Indicates that the model maintains a balanced performance across both classes.  \n",
    "- ✅ **Weighted Average (0.89, 0.89, 0.89)** → The model is well-calibrated to handle class imbalance.  \n"
   ]
  },
  {
   "cell_type": "code",
   "execution_count": null,
   "id": "2e3b7e2f",
   "metadata": {},
   "outputs": [],
   "source": []
  },
  {
   "cell_type": "markdown",
   "id": "c5608d89",
   "metadata": {
    "papermill": {
     "duration": 0.010817,
     "end_time": "2025-02-10T22:21:52.238738",
     "exception": false,
     "start_time": "2025-02-10T22:21:52.227921",
     "status": "completed"
    },
    "tags": []
   },
   "source": [
    "<a id=\"dt_hp\"></a>\n",
    "## <b><span style='color:darkturquoise'>Step 4.6|</span><span style='color:royalblue'>  RF Hyperparameter Tuning</span></b>"
   ]
  },
  {
   "cell_type": "code",
   "execution_count": 20,
   "id": "ea679c32",
   "metadata": {
    "execution": {
     "iopub.execute_input": "2025-02-10T22:21:52.262119Z",
     "iopub.status.busy": "2025-02-10T22:21:52.261700Z",
     "iopub.status.idle": "2025-02-10T22:23:42.277610Z",
     "shell.execute_reply": "2025-02-10T22:23:42.276309Z"
    },
    "papermill": {
     "duration": 110.039534,
     "end_time": "2025-02-10T22:23:42.289280",
     "exception": false,
     "start_time": "2025-02-10T22:21:52.249746",
     "status": "completed"
    },
    "tags": []
   },
   "outputs": [
    {
     "name": "stdout",
     "output_type": "stream",
     "text": [
      "Best parameters for Random Forest: {'max_depth': 20, 'min_samples_split': 2, 'n_estimators': 100}\n",
      "              precision    recall  f1-score   support\n",
      "\n",
      "           0       0.86      0.80      0.83      2377\n",
      "           1       0.90      0.94      0.92      4873\n",
      "\n",
      "    accuracy                           0.89      7250\n",
      "   macro avg       0.88      0.87      0.88      7250\n",
      "weighted avg       0.89      0.89      0.89      7250\n",
      "\n"
     ]
    }
   ],
   "source": [
    "# Define the hyperparameter grid for tuning the Random Forest model\n",
    "param_grid = {\n",
    "    'n_estimators': [100, 200, 300],  # Number of trees in the forest\n",
    "    'max_depth': [None, 10, 20],      # Maximum depth of each tree (None means unlimited depth)\n",
    "    'min_samples_split': [2, 5, 10]   # Minimum number of samples required to split a node\n",
    "}\n",
    "\n",
    "# Initialize GridSearchCV with a 3-fold cross-validation\n",
    "grid_rf = GridSearchCV(\n",
    "    estimator=RandomForestClassifier(random_state=42),  # Random Forest model\n",
    "    param_grid=param_grid,  # Hyperparameter grid\n",
    "    cv=3,  # 3-fold cross-validation to evaluate performance\n",
    "    n_jobs=-1  # Use all available CPU cores for faster computation\n",
    ")\n",
    "\n",
    "# Fit GridSearchCV on the training data\n",
    "grid_rf.fit(X_train, y_train)\n",
    "\n",
    "# Print the best hyperparameter combination found\n",
    "print(\"Best parameters for Random Forest:\", grid_rf.best_params_)\n",
    "\n",
    "# Retrieve the best model from the grid search\n",
    "best_rf = grid_rf.best_estimator_\n",
    "\n",
    "# Make predictions on the test set using the optimized model\n",
    "y_pred_best_rf = best_rf.predict(X_test)\n",
    "\n",
    "# Print the classification report to evaluate the model's performance\n",
    "print(classification_report(y_test, y_pred_best_rf))"
   ]
  },
  {
   "cell_type": "markdown",
   "id": "f54851c5",
   "metadata": {
    "papermill": {
     "duration": 0.010686,
     "end_time": "2025-02-10T22:23:42.311106",
     "exception": false,
     "start_time": "2025-02-10T22:23:42.300420",
     "status": "completed"
    },
    "tags": []
   },
   "source": [
    "### 📌 Observations & Insights :\n",
    "- ✅ **Accuracy remains the same (89%)**, meaning hyperparameter tuning did not provide a drastic improvement.  \n",
    "- ✅ **Recall for canceled bookings improved (93% → 94%)**, making the model better at detecting cancellations.  \n",
    "- ✅ **Recall for non-canceled bookings slightly dropped (81% → 80%)**, meaning more false negatives for confirmed bookings.  \n",
    "- ✅ **Overall model performance is stable, but further improvements may require feature engineering.**  \n"
   ]
  },
  {
   "cell_type": "markdown",
   "id": "fbe2654f",
   "metadata": {
    "papermill": {
     "duration": 0.010715,
     "end_time": "2025-02-10T22:23:42.332874",
     "exception": false,
     "start_time": "2025-02-10T22:23:42.322159",
     "status": "completed"
    },
    "tags": []
   },
   "source": [
    "<a id=\"dt_hp\"></a>\n",
    "## <b><span style='color:darkturquoise'>Step 4.7 |</span><span style='color:royalblue'> Training & Evaluating XGBoost Classifier</span></b>"
   ]
  },
  {
   "cell_type": "code",
   "execution_count": 21,
   "id": "8d3e6141",
   "metadata": {
    "execution": {
     "iopub.execute_input": "2025-02-10T22:23:42.357381Z",
     "iopub.status.busy": "2025-02-10T22:23:42.356926Z",
     "iopub.status.idle": "2025-02-10T22:23:42.722892Z",
     "shell.execute_reply": "2025-02-10T22:23:42.721630Z"
    },
    "papermill": {
     "duration": 0.380539,
     "end_time": "2025-02-10T22:23:42.724597",
     "exception": false,
     "start_time": "2025-02-10T22:23:42.344058",
     "status": "completed"
    },
    "tags": []
   },
   "outputs": [
    {
     "name": "stdout",
     "output_type": "stream",
     "text": [
      "Classification Report:\n",
      "               precision    recall  f1-score   support\n",
      "\n",
      "           0       0.83      0.77      0.80      2377\n",
      "           1       0.89      0.92      0.91      4873\n",
      "\n",
      "    accuracy                           0.87      7250\n",
      "   macro avg       0.86      0.85      0.85      7250\n",
      "weighted avg       0.87      0.87      0.87      7250\n",
      "\n"
     ]
    }
   ],
   "source": [
    "# Initialize the XGBoost classifier with specific hyperparameters\n",
    "xgb_model = xgb.XGBClassifier(\n",
    "    n_estimators=100,   # Number of trees (boosting rounds)\n",
    "    learning_rate=0.1,  # Step size shrinkage to prevent overfitting\n",
    "    max_depth=6,        # Maximum depth of each tree (controls model complexity)\n",
    "    random_state=42     # Ensures reproducibility of results\n",
    ")\n",
    "\n",
    "# Train the XGBoost model using the training dataset\n",
    "xgb_model.fit(X_train, y_train)\n",
    "\n",
    "# Make predictions on the test dataset\n",
    "y_pred_xgb = xgb_model.predict(X_test)\n",
    "\n",
    "\n",
    "# Generate and display a classification report (precision, recall, F1-score, support)\n",
    "print(\"Classification Report:\\n\", classification_report(y_test, y_pred_xgb))"
   ]
  },
  {
   "cell_type": "markdown",
   "id": "5bb56fa3",
   "metadata": {
    "papermill": {
     "duration": 0.010804,
     "end_time": "2025-02-10T22:23:42.746833",
     "exception": false,
     "start_time": "2025-02-10T22:23:42.736029",
     "status": "completed"
    },
    "tags": []
   },
   "source": [
    "<a id=\"dt_hp\"></a>\n",
    "## <b><span style='color:darkturquoise'>Step 4.8 |</span><span style='color:royalblue'>  XGBoost Hyperparameter Tuning</span></b>"
   ]
  },
  {
   "cell_type": "code",
   "execution_count": 22,
   "id": "a5402db9",
   "metadata": {
    "execution": {
     "iopub.execute_input": "2025-02-10T22:23:42.770282Z",
     "iopub.status.busy": "2025-02-10T22:23:42.769852Z",
     "iopub.status.idle": "2025-02-10T22:23:51.810610Z",
     "shell.execute_reply": "2025-02-10T22:23:51.809339Z"
    },
    "papermill": {
     "duration": 9.054614,
     "end_time": "2025-02-10T22:23:51.812471",
     "exception": false,
     "start_time": "2025-02-10T22:23:42.757857",
     "status": "completed"
    },
    "tags": []
   },
   "outputs": [
    {
     "name": "stdout",
     "output_type": "stream",
     "text": [
      "Best parameters for XGBoost: {'subsample': 0.7, 'n_estimators': 100, 'max_depth': 10, 'learning_rate': 0.2}\n",
      "              precision    recall  f1-score   support\n",
      "\n",
      "           0       0.85      0.80      0.82      2377\n",
      "           1       0.90      0.93      0.92      4873\n",
      "\n",
      "    accuracy                           0.89      7250\n",
      "   macro avg       0.88      0.86      0.87      7250\n",
      "weighted avg       0.89      0.89      0.89      7250\n",
      "\n"
     ]
    }
   ],
   "source": [
    "# Define the hyperparameter search space for XGBoost\n",
    "param_dist = {\n",
    "    'n_estimators': [100, 200, 300],  # Number of boosting rounds (trees)\n",
    "    'learning_rate': [0.01, 0.1, 0.2],  # Step size shrinkage to prevent overfitting\n",
    "    'max_depth': [3, 6, 10],  # Maximum depth of each tree (controls complexity)\n",
    "    'subsample': [0.7, 0.8, 1.0]  # Fraction of data used per boosting round (regularization)\n",
    "}\n",
    "\n",
    "# Initialize RandomizedSearchCV for hyperparameter tuning\n",
    "random_xgb = RandomizedSearchCV(\n",
    "    estimator=xgb.XGBClassifier(random_state=42),  # XGBoost classifier\n",
    "    param_distributions=param_dist,  # Hyperparameter space\n",
    "    n_iter=10,  # Number of different hyperparameter combinations to try\n",
    "    cv=3,  # 3-fold cross-validation for evaluation\n",
    "    n_jobs=-1  # Use all available CPU cores for parallel computation\n",
    ")\n",
    "\n",
    "# Fit RandomizedSearchCV on the training data\n",
    "random_xgb.fit(X_train, y_train)\n",
    "\n",
    "# Print the best hyperparameter combination found\n",
    "print(\"Best parameters for XGBoost:\", random_xgb.best_params_)\n",
    "\n",
    "# Retrieve the best model from the search\n",
    "best_xgb = random_xgb.best_estimator_\n",
    "\n",
    "# Make predictions on the test set using the optimized model\n",
    "y_pred_best_xgb = best_xgb.predict(X_test)\n",
    "\n",
    "# Print the classification report to evaluate the optimized model's performance\n",
    "print(classification_report(y_test, y_pred_best_xgb))"
   ]
  },
  {
   "cell_type": "code",
   "execution_count": 23,
   "id": "a13ad04b",
   "metadata": {},
   "outputs": [
    {
     "data": {
      "text/plain": [
       "['random_forest_model.pkl']"
      ]
     },
     "execution_count": 23,
     "metadata": {},
     "output_type": "execute_result"
    }
   ],
   "source": [
    "import joblib\n",
    "\n",
    "joblib.dump(rf_model, \"random_forest_model.pkl\")"
   ]
  }
 ],
 "metadata": {
  "kaggle": {
   "accelerator": "none",
   "dataSources": [
    {
     "datasetId": 6597759,
     "sourceId": 10654451,
     "sourceType": "datasetVersion"
    }
   ],
   "dockerImageVersionId": 30886,
   "isGpuEnabled": false,
   "isInternetEnabled": true,
   "language": "python",
   "sourceType": "notebook"
  },
  "kernelspec": {
   "display_name": "Python 3",
   "language": "python",
   "name": "python3"
  },
  "language_info": {
   "codemirror_mode": {
    "name": "ipython",
    "version": 3
   },
   "file_extension": ".py",
   "mimetype": "text/x-python",
   "name": "python",
   "nbconvert_exporter": "python",
   "pygments_lexer": "ipython3",
   "version": "3.13.2"
  },
  "papermill": {
   "default_parameters": {},
   "duration": 166.671132,
   "end_time": "2025-02-10T22:23:52.746280",
   "environment_variables": {},
   "exception": null,
   "input_path": "__notebook__.ipynb",
   "output_path": "__notebook__.ipynb",
   "parameters": {},
   "start_time": "2025-02-10T22:21:06.075148",
   "version": "2.6.0"
  }
 },
 "nbformat": 4,
 "nbformat_minor": 5
}
